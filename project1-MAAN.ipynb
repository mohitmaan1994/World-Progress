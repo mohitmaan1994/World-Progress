{
 "cells": [
  {
   "cell_type": "markdown",
   "metadata": {},
   "source": [
    "# World Progress"
   ]
  },
  {
   "cell_type": "markdown",
   "metadata": {},
   "source": [
    "In this project, you'll explore data from [Gapminder.org](http://gapminder.org), a website dedicated to providing a fact-based view of the world and how it has changed. That site includes several data visualizations and presentations, but also publishes the raw data that we will use in this project to recreate and extend some of their most famous visualizations.\n",
    "\n",
    "The Gapminder website collects data from many sources and compiles them into tables that describe many countries around the world. All of the data they aggregate are published in the [Systema Globalis](https://github.com/open-numbers/ddf--gapminder--systema_globalis/blob/master/README.md). Their goal is \"to compile all public statistics; Social, Economic and Environmental; into a comparable total dataset.\" All data sets in this project are copied directly from the Systema Globalis without any changes.\n",
    "\n",
    "This project is dedicated to [Hans Rosling](https://en.wikipedia.org/wiki/Hans_Rosling) (1948-2017), who championed the use of data to understand and prioritize global development challenges."
   ]
  },
  {
   "cell_type": "markdown",
   "metadata": {},
   "source": [
    "### Logistics\n",
    "\n",
    "**Deadline.** This project is due at the end of day July 17. Projects will be accepted up to 24 hours late, with a penalty of 25% deduction for every 6 hour delay, and a project submitted 24 hours or more after the deadline will receive no credit. It's **much** better to be early than late, so start working now.\n",
    "\n",
    "**Partners.** You may work with one other partner. Only one of you is required to submit the project. Add their name to the file name with a hyphen (e.g. project1-Smith-Jones). \n",
    "\n",
    "**Rules.** Don't share your code with anybody but your partner. You are welcome to discuss questions with other students, but don't share the answers. The experience of solving the problems in this project will prepare you for exams (and life). If someone asks you for the answer, resist! Instead, you can demonstrate how you would solve a similar problem.\n",
    "\n",
    "**Support.** You are not alone! Come to office hours and talk to your classmates. If you want to ask about the details of your solution to a problem, or if you're ever feeling overwhelmed or don't know how to make progresssend, send an email to the instructor or TA.\n",
    "\n",
    "**Free Response Questions:** Make sure that you put the answers to the written questions in the indicated cell I provide. \n",
    "\n",
    "**Advice.** Develop your answers incrementally. To perform a complicated table manipulation, break it up into steps, perform each step on a different line, give a new name to each result, and check that each intermediate result is what you expect. You can add any additional names or functions you want to the provided cells. Make sure that you are using distinct and meaningful variable names throughout the notebook. Along that line, **DO NOT** reuse the variable names that I use when we grade your answers. For example, in Question 1 of the Global Poverty section, I ask you to assign an answer to `latest`. Do not reassign the variable name `latest` to anything else in your notebook, otherwise there is the chance that my grading algorithm will give you an incorrect score. \n",
    "\n",
    "You **never** have to use just one line in this project or any others. Use intermediate variables and multiple lines as much as you would like!  \n",
    "\n",
    "To get started, load `datascience`, `numpy`, and `plots` by running the next cell."
   ]
  },
  {
   "cell_type": "code",
   "execution_count": 2,
   "metadata": {},
   "outputs": [],
   "source": [
    "from datascience import *\n",
    "import numpy as np\n",
    "\n",
    "%matplotlib inline\n",
    "import matplotlib.pyplot as plots\n",
    "plots.style.use('fivethirtyeight')"
   ]
  },
  {
   "cell_type": "markdown",
   "metadata": {
    "deletable": false,
    "editable": false
   },
   "source": [
    "## 1. Global Population Growth\n"
   ]
  },
  {
   "cell_type": "markdown",
   "metadata": {
    "deletable": false,
    "editable": false
   },
   "source": [
    "The global population of humans reached 1 billion around 1800, 3 billion around 1960, and 7 billion around 2011. The potential impact of exponential population growth has concerned scientists, economists, and politicians alike.\n",
    "\n",
    "The UN Population Division estimates that the world population will likely continue to grow throughout the 21st century, but at a slower rate, perhaps reaching 11 billion by 2100. However, the UN does not rule out scenarios of more extreme growth.\n",
    "\n",
    "<a href=\"http://www.pewresearch.org/fact-tank/2015/06/08/scientists-more-worried-than-public-about-worlds-growing-population/ft_15-06-04_popcount/\"> \n",
    " <img src=\"pew_population_projection.png\"/> \n",
    "</a>\n",
    "\n",
    "In this section, we will examine some of the factors that influence population growth and how they are changing around the world.\n",
    "\n",
    "The first table we will consider is the total population of each country over time. Run the cell below."
   ]
  },
  {
   "cell_type": "code",
   "execution_count": 3,
   "metadata": {
    "deletable": false,
    "editable": false
   },
   "outputs": [
    {
     "data": {
      "text/html": [
       "<table border=\"1\" class=\"dataframe\">\n",
       "    <thead>\n",
       "        <tr>\n",
       "            <th>geo</th> <th>time</th> <th>population_total</th>\n",
       "        </tr>\n",
       "    </thead>\n",
       "    <tbody>\n",
       "        <tr>\n",
       "            <td>abw </td> <td>1,800</td> <td>19,286          </td>\n",
       "        </tr>\n",
       "        <tr>\n",
       "            <td>abw </td> <td>1,801</td> <td>19,286          </td>\n",
       "        </tr>\n",
       "        <tr>\n",
       "            <td>abw </td> <td>1,802</td> <td>19,286          </td>\n",
       "        </tr>\n",
       "    </tbody>\n",
       "</table>\n",
       "<p>... (87792 rows omitted)</p>"
      ],
      "text/plain": [
       "<IPython.core.display.HTML object>"
      ]
     },
     "metadata": {},
     "output_type": "display_data"
    }
   ],
   "source": [
    "population = Table.read_table('population.csv')\n",
    "population.show(3)"
   ]
  },
  {
   "cell_type": "markdown",
   "metadata": {},
   "source": [
    "**Note:** The population csv file can also be found [here](https://github.com/open-numbers/ddf--gapminder--systema_globalis/raw/master/ddf--datapoints--population_total--by--geo--time.csv). The data for this project was downloaded in February, 2017."
   ]
  },
  {
   "cell_type": "markdown",
   "metadata": {
    "deletable": false,
    "editable": false
   },
   "source": [
    "### Bangladesh\n",
    "\n",
    "In the `population` table, the `geo` column contains three-letter codes established by the [International Organization for Standardization](https://en.wikipedia.org/wiki/International_Organization_for_Standardization) (ISO) in the [Alpha-3](https://en.wikipedia.org/wiki/ISO_3166-1_alpha-3#Current_codes) standard. We will begin by taking a close look at Bangladesh. Inspect the standard to find the 3-letter code for Bangladesh."
   ]
  },
  {
   "cell_type": "markdown",
   "metadata": {
    "deletable": false,
    "editable": false
   },
   "source": [
    "**Question 1.** Create a table called `b_pop` that has two columns labeled `time` and `population_total`. The first column should contain the years from 1970 through 2015 (including both 1970 and 2015) and the second should contain the population of Bangladesh in each of those years."
   ]
  },
  {
   "cell_type": "code",
   "execution_count": 4,
   "metadata": {
    "deletable": false
   },
   "outputs": [
    {
     "data": {
      "text/html": [
       "<table border=\"1\" class=\"dataframe\">\n",
       "    <thead>\n",
       "        <tr>\n",
       "            <th>time</th> <th>population_total</th>\n",
       "        </tr>\n",
       "    </thead>\n",
       "    <tbody>\n",
       "        <tr>\n",
       "            <td>1,970</td> <td>65,048,701      </td>\n",
       "        </tr>\n",
       "        <tr>\n",
       "            <td>1,971</td> <td>66,417,450      </td>\n",
       "        </tr>\n",
       "        <tr>\n",
       "            <td>1,972</td> <td>67,578,486      </td>\n",
       "        </tr>\n",
       "        <tr>\n",
       "            <td>1,973</td> <td>68,658,472      </td>\n",
       "        </tr>\n",
       "        <tr>\n",
       "            <td>1,974</td> <td>69,837,960      </td>\n",
       "        </tr>\n",
       "        <tr>\n",
       "            <td>1,975</td> <td>71,247,153      </td>\n",
       "        </tr>\n",
       "        <tr>\n",
       "            <td>1,976</td> <td>72,930,206      </td>\n",
       "        </tr>\n",
       "        <tr>\n",
       "            <td>1,977</td> <td>74,848,466      </td>\n",
       "        </tr>\n",
       "        <tr>\n",
       "            <td>1,978</td> <td>76,948,378      </td>\n",
       "        </tr>\n",
       "        <tr>\n",
       "            <td>1,979</td> <td>79,141,947      </td>\n",
       "        </tr>\n",
       "    </tbody>\n",
       "</table>\n",
       "<p>... (36 rows omitted)</p>"
      ],
      "text/plain": [
       "time  | population_total\n",
       "1,970 | 65,048,701\n",
       "1,971 | 66,417,450\n",
       "1,972 | 67,578,486\n",
       "1,973 | 68,658,472\n",
       "1,974 | 69,837,960\n",
       "1,975 | 71,247,153\n",
       "1,976 | 72,930,206\n",
       "1,977 | 74,848,466\n",
       "1,978 | 76,948,378\n",
       "1,979 | 79,141,947\n",
       "... (36 rows omitted)"
      ]
     },
     "execution_count": 4,
     "metadata": {},
     "output_type": "execute_result"
    }
   ],
   "source": [
    "b_pop = population.where('geo', are.equal_to('bgd')).where('time', are.between_or_equal_to(1970,2015)).drop('geo')# pay attention to upper/lower case\n",
    "b_pop # you can check your anwser by showing the entire table"
   ]
  },
  {
   "cell_type": "markdown",
   "metadata": {
    "deletable": false,
    "editable": false
   },
   "source": [
    "Run the following cell to create a table called `b_five` that has the population of Bangladesh every five years. At a glance, it appears that the population of Bangladesh has been growing quickly indeed!"
   ]
  },
  {
   "cell_type": "code",
   "execution_count": 5,
   "metadata": {
    "deletable": false,
    "editable": false
   },
   "outputs": [
    {
     "data": {
      "text/html": [
       "<table border=\"1\" class=\"dataframe\">\n",
       "    <thead>\n",
       "        <tr>\n",
       "            <th>time</th> <th>population_total</th>\n",
       "        </tr>\n",
       "    </thead>\n",
       "    <tbody>\n",
       "        <tr>\n",
       "            <td>1,970</td> <td>65,048,701      </td>\n",
       "        </tr>\n",
       "        <tr>\n",
       "            <td>1,975</td> <td>71,247,153      </td>\n",
       "        </tr>\n",
       "        <tr>\n",
       "            <td>1,980</td> <td>81,364,176      </td>\n",
       "        </tr>\n",
       "        <tr>\n",
       "            <td>1,985</td> <td>93,015,182      </td>\n",
       "        </tr>\n",
       "        <tr>\n",
       "            <td>1,990</td> <td>105,983,136     </td>\n",
       "        </tr>\n",
       "        <tr>\n",
       "            <td>1,995</td> <td>118,427,768     </td>\n",
       "        </tr>\n",
       "        <tr>\n",
       "            <td>2,000</td> <td>131,280,739     </td>\n",
       "        </tr>\n",
       "        <tr>\n",
       "            <td>2,005</td> <td>142,929,979     </td>\n",
       "        </tr>\n",
       "        <tr>\n",
       "            <td>2,010</td> <td>151,616,777     </td>\n",
       "        </tr>\n",
       "        <tr>\n",
       "            <td>2,015</td> <td>160,995,642     </td>\n",
       "        </tr>\n",
       "    </tbody>\n",
       "</table>"
      ],
      "text/plain": [
       "time  | population_total\n",
       "1,970 | 65,048,701\n",
       "1,975 | 71,247,153\n",
       "1,980 | 81,364,176\n",
       "1,985 | 93,015,182\n",
       "1,990 | 105,983,136\n",
       "1,995 | 118,427,768\n",
       "2,000 | 131,280,739\n",
       "2,005 | 142,929,979\n",
       "2,010 | 151,616,777\n",
       "2,015 | 160,995,642"
      ]
     },
     "execution_count": 5,
     "metadata": {},
     "output_type": "execute_result"
    }
   ],
   "source": [
    "b_pop.set_format('population_total', NumberFormatter)\n",
    "\n",
    "fives = np.arange(1970, 2016, 5) # 1970, 1975, 1980, ...\n",
    "b_five = b_pop.sort('time').where('time', are.contained_in(fives))\n",
    "b_five"
   ]
  },
  {
   "cell_type": "markdown",
   "metadata": {
    "deletable": false,
    "editable": false
   },
   "source": [
    "**Question 2.** Assign `b_1970_through_2010` to a table that has the same columns as `b_five` and has one row for every five years from 1970 through 2010 (but not 2015). Then, use that table to assign `initial` to an array that contains the population for every five year interval from 1970 to 2010. Finally, assign `changed` to an array that contains the population for every five year interval from 1975 to 2015.\n",
    "\n",
    "*Hint*: You may find the `exclude` method to be helpful ([Docs](http://data8.org/datascience/_autosummary/datascience.tables.Table.exclude.html))."
   ]
  },
  {
   "cell_type": "code",
   "execution_count": 6,
   "metadata": {
    "deletable": false
   },
   "outputs": [
    {
     "name": "stdout",
     "output_type": "stream",
     "text": [
      "initial array is \n",
      "[ 65048701  71247153  81364176  93015182 105983136 118427768 131280739\n",
      " 142929979 151616777]\n",
      "changed array is \n",
      "[ 71247153  81364176  93015182 105983136 118427768 131280739 142929979\n",
      " 151616777 160995642]\n"
     ]
    }
   ],
   "source": [
    "b_1970_through_2010 = b_five.exclude(9)\n",
    "b_1970_through_2010\n",
    "b_1975_through_2015 = b_five.exclude(0)\n",
    "initial = b_1970_through_2010.column(\"population_total\")\n",
    "changed = b_1975_through_2015.column(\"population_total\")\n",
    "print(\"initial array is \")\n",
    "print(initial)\n",
    "print(\"changed array is \")\n",
    "print(changed)"
   ]
  },
  {
   "cell_type": "markdown",
   "metadata": {
    "deletable": false,
    "editable": false
   },
   "source": [
    "We have provided the code below that uses `b_1970_through_2010`, `initial`, and `changed` in order to add a column to the table called `annual_growth`. Don't worry about the calculation of the growth rates; run the test below to test your solution.\n",
    "\n",
    "If you are interested in how we came up with the formula for growth rates, consult the [growth rates](https://www.inferentialthinking.com/chapters/03/2/1/growth) section of the textbook."
   ]
  },
  {
   "cell_type": "code",
   "execution_count": 7,
   "metadata": {
    "deletable": false,
    "editable": false
   },
   "outputs": [
    {
     "data": {
      "text/html": [
       "<table border=\"1\" class=\"dataframe\">\n",
       "    <thead>\n",
       "        <tr>\n",
       "            <th>time</th> <th>population_total</th> <th>annual_growth</th>\n",
       "        </tr>\n",
       "    </thead>\n",
       "    <tbody>\n",
       "        <tr>\n",
       "            <td>1,970</td> <td>65,048,701      </td> <td>1.84%        </td>\n",
       "        </tr>\n",
       "        <tr>\n",
       "            <td>1,975</td> <td>71,247,153      </td> <td>2.69%        </td>\n",
       "        </tr>\n",
       "        <tr>\n",
       "            <td>1,980</td> <td>81,364,176      </td> <td>2.71%        </td>\n",
       "        </tr>\n",
       "        <tr>\n",
       "            <td>1,985</td> <td>93,015,182      </td> <td>2.64%        </td>\n",
       "        </tr>\n",
       "        <tr>\n",
       "            <td>1,990</td> <td>105,983,136     </td> <td>2.25%        </td>\n",
       "        </tr>\n",
       "        <tr>\n",
       "            <td>1,995</td> <td>118,427,768     </td> <td>2.08%        </td>\n",
       "        </tr>\n",
       "        <tr>\n",
       "            <td>2,000</td> <td>131,280,739     </td> <td>1.71%        </td>\n",
       "        </tr>\n",
       "        <tr>\n",
       "            <td>2,005</td> <td>142,929,979     </td> <td>1.19%        </td>\n",
       "        </tr>\n",
       "        <tr>\n",
       "            <td>2,010</td> <td>151,616,777     </td> <td>1.21%        </td>\n",
       "        </tr>\n",
       "    </tbody>\n",
       "</table>"
      ],
      "text/plain": [
       "time  | population_total | annual_growth\n",
       "1,970 | 65,048,701       | 1.84%\n",
       "1,975 | 71,247,153       | 2.69%\n",
       "1,980 | 81,364,176       | 2.71%\n",
       "1,985 | 93,015,182       | 2.64%\n",
       "1,990 | 105,983,136      | 2.25%\n",
       "1,995 | 118,427,768      | 2.08%\n",
       "2,000 | 131,280,739      | 1.71%\n",
       "2,005 | 142,929,979      | 1.19%\n",
       "2,010 | 151,616,777      | 1.21%"
      ]
     },
     "execution_count": 7,
     "metadata": {},
     "output_type": "execute_result"
    }
   ],
   "source": [
    "b_five_growth = b_1970_through_2010.with_column('annual_growth', (changed/initial)**0.2-1)\n",
    "b_five_growth.set_format('annual_growth', PercentFormatter)"
   ]
  },
  {
   "cell_type": "markdown",
   "metadata": {
    "deletable": false,
    "editable": false
   },
   "source": [
    "While the population has grown every five years since 1970, the annual growth rate decreased dramatically from 1985 to 2005. Let's look at some other information in order to develop a possible explanation. Run the next cell to load three additional tables of measurements about countries over time."
   ]
  },
  {
   "cell_type": "code",
   "execution_count": 8,
   "metadata": {
    "deletable": false,
    "editable": false
   },
   "outputs": [],
   "source": [
    "life_expectancy = Table.read_table('life_expectancy.csv')\n",
    "child_mortality = Table.read_table('child_mortality.csv').relabeled(2, 'child_mortality_under_5_per_1000_born')\n",
    "fertility = Table.read_table('fertility.csv')"
   ]
  },
  {
   "cell_type": "markdown",
   "metadata": {
    "deletable": false,
    "editable": false
   },
   "source": [
    "The `life_expectancy` table contains a statistic that is often used to measure how long people live, called *life expectancy at birth*. This number, for a country in a given year, [does not measure how long babies born in that year are expected to live](http://blogs.worldbank.org/opendata/what-does-life-expectancy-birth-really-mean). Instead, it measures how long someone would live, on average, if the *mortality conditions* in that year persisted throughout their lifetime. These \"mortality conditions\" describe what fraction of people at each age survived the year. So, it is a way of measuring the proportion of people that are staying alive, aggregated over different age groups in the population."
   ]
  },
  {
   "cell_type": "markdown",
   "metadata": {},
   "source": [
    "Run the following cells below to see `life_expectancy`, `child_mortality`, and `fertility`. Refer back to these tables as they will be helpful for answering further questions!"
   ]
  },
  {
   "cell_type": "code",
   "execution_count": 9,
   "metadata": {},
   "outputs": [
    {
     "data": {
      "text/html": [
       "<table border=\"1\" class=\"dataframe\">\n",
       "    <thead>\n",
       "        <tr>\n",
       "            <th>geo</th> <th>time</th> <th>life_expectancy_years</th>\n",
       "        </tr>\n",
       "    </thead>\n",
       "    <tbody>\n",
       "        <tr>\n",
       "            <td>afg </td> <td>1,800</td> <td>28.21                </td>\n",
       "        </tr>\n",
       "        <tr>\n",
       "            <td>afg </td> <td>1,801</td> <td>28.2                 </td>\n",
       "        </tr>\n",
       "        <tr>\n",
       "            <td>afg </td> <td>1,802</td> <td>28.19                </td>\n",
       "        </tr>\n",
       "        <tr>\n",
       "            <td>afg </td> <td>1,803</td> <td>28.18                </td>\n",
       "        </tr>\n",
       "        <tr>\n",
       "            <td>afg </td> <td>1,804</td> <td>28.17                </td>\n",
       "        </tr>\n",
       "        <tr>\n",
       "            <td>afg </td> <td>1,805</td> <td>28.16                </td>\n",
       "        </tr>\n",
       "        <tr>\n",
       "            <td>afg </td> <td>1,806</td> <td>28.15                </td>\n",
       "        </tr>\n",
       "        <tr>\n",
       "            <td>afg </td> <td>1,807</td> <td>28.14                </td>\n",
       "        </tr>\n",
       "        <tr>\n",
       "            <td>afg </td> <td>1,808</td> <td>28.13                </td>\n",
       "        </tr>\n",
       "        <tr>\n",
       "            <td>afg </td> <td>1,809</td> <td>28.12                </td>\n",
       "        </tr>\n",
       "    </tbody>\n",
       "</table>\n",
       "<p>... (43847 rows omitted)</p>"
      ],
      "text/plain": [
       "geo  | time  | life_expectancy_years\n",
       "afg  | 1,800 | 28.21\n",
       "afg  | 1,801 | 28.2\n",
       "afg  | 1,802 | 28.19\n",
       "afg  | 1,803 | 28.18\n",
       "afg  | 1,804 | 28.17\n",
       "afg  | 1,805 | 28.16\n",
       "afg  | 1,806 | 28.15\n",
       "afg  | 1,807 | 28.14\n",
       "afg  | 1,808 | 28.13\n",
       "afg  | 1,809 | 28.12\n",
       "... (43847 rows omitted)"
      ]
     },
     "execution_count": 9,
     "metadata": {},
     "output_type": "execute_result"
    }
   ],
   "source": [
    "life_expectancy"
   ]
  },
  {
   "cell_type": "code",
   "execution_count": 10,
   "metadata": {},
   "outputs": [
    {
     "data": {
      "text/html": [
       "<table border=\"1\" class=\"dataframe\">\n",
       "    <thead>\n",
       "        <tr>\n",
       "            <th>geo</th> <th>time</th> <th>child_mortality_under_5_per_1000_born</th>\n",
       "        </tr>\n",
       "    </thead>\n",
       "    <tbody>\n",
       "        <tr>\n",
       "            <td>afg </td> <td>1,800</td> <td>468.6                                </td>\n",
       "        </tr>\n",
       "        <tr>\n",
       "            <td>afg </td> <td>1,801</td> <td>468.6                                </td>\n",
       "        </tr>\n",
       "        <tr>\n",
       "            <td>afg </td> <td>1,802</td> <td>468.6                                </td>\n",
       "        </tr>\n",
       "        <tr>\n",
       "            <td>afg </td> <td>1,803</td> <td>468.6                                </td>\n",
       "        </tr>\n",
       "        <tr>\n",
       "            <td>afg </td> <td>1,804</td> <td>468.6                                </td>\n",
       "        </tr>\n",
       "        <tr>\n",
       "            <td>afg </td> <td>1,805</td> <td>468.6                                </td>\n",
       "        </tr>\n",
       "        <tr>\n",
       "            <td>afg </td> <td>1,806</td> <td>470                                  </td>\n",
       "        </tr>\n",
       "        <tr>\n",
       "            <td>afg </td> <td>1,807</td> <td>470                                  </td>\n",
       "        </tr>\n",
       "        <tr>\n",
       "            <td>afg </td> <td>1,808</td> <td>470                                  </td>\n",
       "        </tr>\n",
       "        <tr>\n",
       "            <td>afg </td> <td>1,809</td> <td>470                                  </td>\n",
       "        </tr>\n",
       "    </tbody>\n",
       "</table>\n",
       "<p>... (40746 rows omitted)</p>"
      ],
      "text/plain": [
       "geo  | time  | child_mortality_under_5_per_1000_born\n",
       "afg  | 1,800 | 468.6\n",
       "afg  | 1,801 | 468.6\n",
       "afg  | 1,802 | 468.6\n",
       "afg  | 1,803 | 468.6\n",
       "afg  | 1,804 | 468.6\n",
       "afg  | 1,805 | 468.6\n",
       "afg  | 1,806 | 470\n",
       "afg  | 1,807 | 470\n",
       "afg  | 1,808 | 470\n",
       "afg  | 1,809 | 470\n",
       "... (40746 rows omitted)"
      ]
     },
     "execution_count": 10,
     "metadata": {},
     "output_type": "execute_result"
    }
   ],
   "source": [
    "child_mortality"
   ]
  },
  {
   "cell_type": "code",
   "execution_count": 11,
   "metadata": {},
   "outputs": [
    {
     "data": {
      "text/html": [
       "<table border=\"1\" class=\"dataframe\">\n",
       "    <thead>\n",
       "        <tr>\n",
       "            <th>geo</th> <th>time</th> <th>children_per_woman_total_fertility</th>\n",
       "        </tr>\n",
       "    </thead>\n",
       "    <tbody>\n",
       "        <tr>\n",
       "            <td>afg </td> <td>1,800</td> <td>7                                 </td>\n",
       "        </tr>\n",
       "        <tr>\n",
       "            <td>afg </td> <td>1,801</td> <td>7                                 </td>\n",
       "        </tr>\n",
       "        <tr>\n",
       "            <td>afg </td> <td>1,802</td> <td>7                                 </td>\n",
       "        </tr>\n",
       "        <tr>\n",
       "            <td>afg </td> <td>1,803</td> <td>7                                 </td>\n",
       "        </tr>\n",
       "        <tr>\n",
       "            <td>afg </td> <td>1,804</td> <td>7                                 </td>\n",
       "        </tr>\n",
       "        <tr>\n",
       "            <td>afg </td> <td>1,805</td> <td>7                                 </td>\n",
       "        </tr>\n",
       "        <tr>\n",
       "            <td>afg </td> <td>1,806</td> <td>7                                 </td>\n",
       "        </tr>\n",
       "        <tr>\n",
       "            <td>afg </td> <td>1,807</td> <td>7                                 </td>\n",
       "        </tr>\n",
       "        <tr>\n",
       "            <td>afg </td> <td>1,808</td> <td>7                                 </td>\n",
       "        </tr>\n",
       "        <tr>\n",
       "            <td>afg </td> <td>1,809</td> <td>7                                 </td>\n",
       "        </tr>\n",
       "    </tbody>\n",
       "</table>\n",
       "<p>... (43402 rows omitted)</p>"
      ],
      "text/plain": [
       "geo  | time  | children_per_woman_total_fertility\n",
       "afg  | 1,800 | 7\n",
       "afg  | 1,801 | 7\n",
       "afg  | 1,802 | 7\n",
       "afg  | 1,803 | 7\n",
       "afg  | 1,804 | 7\n",
       "afg  | 1,805 | 7\n",
       "afg  | 1,806 | 7\n",
       "afg  | 1,807 | 7\n",
       "afg  | 1,808 | 7\n",
       "afg  | 1,809 | 7\n",
       "... (43402 rows omitted)"
      ]
     },
     "execution_count": 11,
     "metadata": {},
     "output_type": "execute_result"
    }
   ],
   "source": [
    "fertility"
   ]
  },
  {
   "cell_type": "markdown",
   "metadata": {
    "deletable": false,
    "editable": false
   },
   "source": [
    "**Question 3.** Perhaps population is growing more slowly because people aren't living as long. Use the `life_expectancy` table to draw a line graph with the years 1970 and later on the horizontal axis that shows how the *life expectancy at birth* has changed in Bangladesh."
   ]
  },
  {
   "cell_type": "code",
   "execution_count": 12,
   "metadata": {
    "deletable": false,
    "manual_grade": true,
    "manual_problem_id": "global_pop_3"
   },
   "outputs": [
    {
     "data": {
      "image/png": "[encoded data removed]",
      "text/plain": [
       "<Figure size 432x288 with 1 Axes>"
      ]
     },
     "metadata": {},
     "output_type": "display_data"
    }
   ],
   "source": [
    "b_pop_life_expectancy = life_expectancy.where('geo', are.equal_to('bgd')).where('time', are.between_or_equal_to(1970,2015)).drop('geo').plot('time','life_expectancy_years')"
   ]
  },
  {
   "cell_type": "markdown",
   "metadata": {
    "deletable": false,
    "editable": false
   },
   "source": [
    "**Question 4.** Assuming everything else stays the same, does the graph above help directly explain why the population growth rate decreased from 1985 to 2010 in Bangladesh? Why or why not? What happened in Bangladesh in 1991, and does that event explain the change in population growth rate?"
   ]
  },
  {
   "cell_type": "markdown",
   "metadata": {
    "collapsed": true,
    "deletable": false,
    "manual_grade": true,
    "manual_problem_id": "global_pop_4"
   },
   "source": [
    "If everything else remains same, the graph above does not explain why the population growth rate decreased from 1985 to 2010 in bangladesh because the life expectancy curve continues to grow over that period apart from the slight dip in 1991. The life expectancy saw a unnatural dip in 1991 which could be due to several external factors but that alone is not sufficient to explain the population growth range over the entire period."
   ]
  },
  {
   "cell_type": "markdown",
   "metadata": {
    "deletable": false,
    "editable": false
   },
   "source": [
    "The `fertility` table contains a statistic that is often used to measure how many babies are being born, the *total fertility rate*. This number describes the [number of children a woman would have in her lifetime](https://www.measureevaluation.org/prh/rh_indicators/specific/fertility/total-fertility-rate), on average, if the current rates of birth by age of the mother persisted throughout her child bearing years, assuming she survived through age 49. "
   ]
  },
  {
   "cell_type": "markdown",
   "metadata": {
    "deletable": false,
    "editable": false
   },
   "source": [
    "**Question 5.** Write a function `fertility_over_time` that takes the Alpha-3 code of a `country` and a `start` year. It returns a two-column table with labels \"`Year`\" and \"`Children per woman`\" that can be used to generate a line chart of the country's fertility rate each year, starting at the `start` year. The plot should include the `start` year and all later years that appear in the `fertility` table. \n",
    "\n",
    "Then, in the next cell, call your `fertility_over_time` function on the Alpha-3 code for Bangladesh and the year 1970 in order to plot how Bangladesh's fertility rate has changed since 1970. Note that the function `fertility_over_time` should not return the plot itself **The expression that draws the line plot is provided for you; please don't change it.**"
   ]
  },
  {
   "cell_type": "code",
   "execution_count": 13,
   "metadata": {
    "deletable": false
   },
   "outputs": [],
   "source": [
    "def fertility_over_time(country, start):\n",
    "    \"\"\"Create a two-column table that describes a country's total fertility rate each year.\"\"\"\n",
    "    country_fertility = fertility.where('geo', country).drop('geo')\n",
    "    country_fertility_after_start = country_fertility.where('time',are.above_or_equal_to(start))\n",
    "    return country_fertility_after_start"
   ]
  },
  {
   "cell_type": "code",
   "execution_count": 14,
   "metadata": {
    "deletable": false
   },
   "outputs": [
    {
     "data": {
      "image/png": "[encoded data removed]",
      "text/plain": [
       "<Figure size 432x288 with 1 Axes>"
      ]
     },
     "metadata": {},
     "output_type": "display_data"
    }
   ],
   "source": [
    "bangladesh_code = 'bgd'\n",
    "fertility_over_time(bangladesh_code, 1970).plot(0, 1) # You should *not* change this line."
   ]
  },
  {
   "cell_type": "markdown",
   "metadata": {
    "deletable": false,
    "editable": false
   },
   "source": [
    "**Question 6.** Assuming everything else stays the same, does the graph above help directly explain why the population growth rate decreased from 1985 to 2010 in Bangladesh? Why or why not?"
   ]
  },
  {
   "cell_type": "markdown",
   "metadata": {
    "deletable": false,
    "manual_grade": true,
    "manual_problem_id": "global_pop_6"
   },
   "source": [
    "This graph can be one of the factors that explains the decreased growth rate from 1985 to 2010 but cannot exlplain the full scenario. The fertility rate kept on decreasing during the period 1970-1985 but the growth rate increased and hence this factor also cannot solely determine the decrease in growth rate."
   ]
  },
  {
   "cell_type": "markdown",
   "metadata": {
    "deletable": false,
    "editable": false
   },
   "source": [
    "It has been observed that lower fertility rates are often associated with lower child mortality rates. The link has been attributed to family planning: if parents can expect that their children will all survive into adulthood, then they will choose to have fewer children. We can see if this association is evident in Bangladesh by plotting the relationship between total fertility rate and [child mortality rate per 1000 children](https://en.wikipedia.org/wiki/Child_mortality)."
   ]
  },
  {
   "cell_type": "markdown",
   "metadata": {
    "deletable": false,
    "editable": false
   },
   "source": [
    "**Question 7.** Using both the `fertility` and `child_mortality` tables, draw a scatter diagram with one point for each year, starting with 1970, that has Bangladesh's total fertility on the horizontal axis and its child mortality on the vertical axis. \n",
    "\n",
    "**The expression that draws the scatter diagram is provided for you; please don't change it.** Instead, create a table called `post_1969_fertility_and_child_mortality` with the appropriate column labels and data in order to generate the chart correctly. Use the label \"`Children per woman`\" to describe total fertility and the label \"`Child deaths per 1000 born`\" to describe child mortality."
   ]
  },
  {
   "cell_type": "code",
   "execution_count": 15,
   "metadata": {
    "deletable": false
   },
   "outputs": [
    {
     "data": {
      "image/png": "[encoded data removed]",
      "text/plain": [
       "<Figure size 360x360 with 1 Axes>"
      ]
     },
     "metadata": {},
     "output_type": "display_data"
    }
   ],
   "source": [
    "bgd_fertility = fertility.where('geo', are.equal_to('bgd')).where('time', are.above_or_equal_to(1970)).drop('geo').column('children_per_woman_total_fertility')\n",
    "bgd_child_mortality = child_mortality.where('geo', are.equal_to('bgd')).where('time', are.above_or_equal_to(1970)).drop('geo').column('child_mortality_under_5_per_1000_born')\n",
    "post_1969_fertility_and_child_mortality = Table().with_columns('Children per woman', bgd_fertility, 'Child deaths per 1000 born', bgd_child_mortality)\n",
    "post_1969_fertility_and_child_mortality.scatter('Children per woman', 'Child deaths per 1000 born') # You should *not* change this line."
   ]
  },
  {
   "cell_type": "markdown",
   "metadata": {
    "deletable": false,
    "editable": false
   },
   "source": [
    "**Question 8.** In one or two sentences, describe the association (if any) that is illustrated by this scatter diagram. Does the diagram show that reduced child mortality causes parents to choose to have fewer children?"
   ]
  },
  {
   "cell_type": "markdown",
   "metadata": {
    "deletable": false,
    "manual_grade": true,
    "manual_problem_id": "global_pop_8"
   },
   "source": [
    "The scatter plot above depicts a clear association between the child mortality rate and fertility rates. As per the plot, its clear that the reduced child mortality causes parents to have fewer children."
   ]
  },
  {
   "cell_type": "markdown",
   "metadata": {
    "deletable": false,
    "editable": false
   },
   "source": [
    "### The World\n",
    "\n",
    "The change observed in Bangladesh since 1970 can also be observed in many other developing countries: health services improve, life expectancy increases, and child mortality decreases. At the same time, the fertility rate often plummets, and so the population growth rate decreases despite increasing longevity."
   ]
  },
  {
   "cell_type": "markdown",
   "metadata": {
    "deletable": false,
    "editable": false
   },
   "source": [
    "Run the cell below to generate two overlaid histograms, one for 1960 and one for 2010, that show the distributions of total fertility rates for these two years among all 201 countries in the `fertility` table."
   ]
  },
  {
   "cell_type": "code",
   "execution_count": 16,
   "metadata": {
    "deletable": false,
    "editable": false
   },
   "outputs": [
    {
     "data": {
      "image/png": "[encoded data removed]",
      "text/plain": [
       "<Figure size 432x288 with 1 Axes>"
      ]
     },
     "metadata": {},
     "output_type": "display_data"
    }
   ],
   "source": [
    "Table().with_columns(\n",
    "    '1960', fertility.where('time', 1960).column(2),\n",
    "    '2010', fertility.where('time', 2010).column(2)\n",
    ").hist(bins=np.arange(0, 10, 0.5), unit='child')\n",
    "_ = plots.xlabel('Children per woman')\n",
    "_ = plots.xticks(np.arange(10))"
   ]
  },
  {
   "cell_type": "markdown",
   "metadata": {
    "deletable": false,
    "editable": false
   },
   "source": [
    "**Question 9.** Assign `fertility_statements` to a list of the numbers of each statement below that can be correctly inferred from these histograms.\n",
    "1. About the same number of countries had a fertility rate between 3.5 and 4.5 in both 1960 and 2010.\n",
    "1. In 2010, about 40% of countries had a fertility rate between 1.5 and 2 (inclusive).\n",
    "1. In 1960, less than 20% of countries had a fertility rate below 3.\n",
    "1. More countries had a fertility rate above 3 in 1960 than in 2010.\n",
    "1. At least half of countries had a fertility rate between 5 and 8 (inclusive) in 1960.\n",
    "1. At least half of countries had a fertility rate below 3 in 2010."
   ]
  },
  {
   "cell_type": "code",
   "execution_count": 17,
   "metadata": {
    "deletable": false
   },
   "outputs": [],
   "source": [
    "fertility_statements = [2,3,5,6]"
   ]
  },
  {
   "cell_type": "markdown",
   "metadata": {
    "deletable": false,
    "editable": false
   },
   "source": [
    "**Question 10.** Draw a line plot of the world population from 1800 through 2005. The world population is the sum of all the country's populations. "
   ]
  },
  {
   "cell_type": "code",
   "execution_count": 18,
   "metadata": {
    "deletable": false,
    "manual_grade": true,
    "manual_problem_id": "global_pop_10"
   },
   "outputs": [
    {
     "name": "stderr",
     "output_type": "stream",
     "text": [
      "C:\\Users\\LENOVO\\Anaconda3\\lib\\site-packages\\datascience\\tables.py:2870: RuntimeWarning: overflow encountered in long_scalars\n",
      "  return column_fn(column)\n"
     ]
    },
    {
     "data": {
      "image/png": "[encoded data removed]",
      "text/plain": [
       "<Figure size 432x288 with 1 Axes>"
      ]
     },
     "metadata": {},
     "output_type": "display_data"
    }
   ],
   "source": [
    "world_population = population.group(['time'],sum).drop('geo sum')\n",
    "world_population.plot('time','population_total sum')"
   ]
  },
  {
   "cell_type": "markdown",
   "metadata": {
    "deletable": false
   },
   "source": [
    "**Question 11.** Create a function `stats_for_year` that takes a `year` after 1959 and returns a table of statistics. The table it returns should have four columns: `geo`, `population_total`, `children_per_woman_total_fertility`, and `child_mortality_under_5_per_1000_born`. Each row should contain one Alpha-3 country code and three statistics: population, fertility rate, and child mortality for that `year` from the `population`, `fertility` and `child_mortality` tables. Only include rows for which all three statistics are available for the country and year.\n",
    "\n",
    "In addition, restrict the result to country codes that appears in `big_50`, an array of the 50 most populous countries in 2010. This restriction will speed up computations later in the project.\n",
    "\n",
    "*Hint*: Without calling your function yourself and looking at the output, it will be very difficult to understand any problems you have, so try your best to write the function correctly and check that it works at each stage to confirm your work."
   ]
  },
  {
   "cell_type": "code",
   "execution_count": 19,
   "metadata": {
    "deletable": false
   },
   "outputs": [],
   "source": [
    "# We first create a population table that only includes the \n",
    "# 50 countries with the largest 2010 populations. We focus on \n",
    "# these 50 countries only so that plotting later will run faster.\n",
    "big_50 = population.where('time', 2010).sort(2, descending=True).take(np.arange(50)).column('geo')\n",
    "population_of_big_50 = population.where('time', are.above(1959)).where('geo', are.contained_in(big_50))\n",
    "fertility_of_big_50 = fertility.where('time', are.above(1959)).where('geo', are.contained_in(big_50))\n",
    "child_mortality_of_big_50 = child_mortality.where('time', are.above(1959)).where('geo', are.contained_in(big_50))\n",
    "\n",
    "def stats_for_year(year):\n",
    "    \"\"\"Return a table of the stats for each country that year.\"\"\"\n",
    "    p = population_of_big_50.where('time', year).drop('time')\n",
    "    f = fertility_of_big_50.where('time', year).drop('time')\n",
    "    c = child_mortality_of_big_50.where('time', year).drop('time')\n",
    "    \n",
    "    stats = Table().with_columns('geo', p.column('geo'),\n",
    "                                 'population_total',p.column('population_total'),\n",
    "                                 'children_per_woman_total_fertility',f.column('children_per_woman_total_fertility'),\n",
    "                                 'child_mortality_under_5_per_1000_born',c.column('child_mortality_under_5_per_1000_born'))\n",
    "    return stats"
   ]
  },
  {
   "cell_type": "markdown",
   "metadata": {
    "deletable": false,
    "editable": false
   },
   "source": [
    "Try calling your function `stats_for_year` on any year between 1960 and 2010 in the cell below.  Try to understand the output of `stats_for_year`."
   ]
  },
  {
   "cell_type": "code",
   "execution_count": 20,
   "metadata": {},
   "outputs": [
    {
     "data": {
      "text/html": [
       "<table border=\"1\" class=\"dataframe\">\n",
       "    <thead>\n",
       "        <tr>\n",
       "            <th>geo</th> <th>population_total</th> <th>children_per_woman_total_fertility</th> <th>child_mortality_under_5_per_1000_born</th>\n",
       "        </tr>\n",
       "    </thead>\n",
       "    <tbody>\n",
       "        <tr>\n",
       "            <td>afg </td> <td>11,121,097      </td> <td>7.67                              </td> <td>307.8                                </td>\n",
       "        </tr>\n",
       "        <tr>\n",
       "            <td>arg </td> <td>23,973,062      </td> <td>7.64                              </td> <td>242.2                                </td>\n",
       "        </tr>\n",
       "        <tr>\n",
       "            <td>bgd </td> <td>65,048,701      </td> <td>3.07                              </td> <td>72.4                                 </td>\n",
       "        </tr>\n",
       "        <tr>\n",
       "            <td>bra </td> <td>95,982,453      </td> <td>6.95                              </td> <td>224.1                                </td>\n",
       "        </tr>\n",
       "        <tr>\n",
       "            <td>can </td> <td>21,439,200      </td> <td>5.02                              </td> <td>133.7                                </td>\n",
       "        </tr>\n",
       "        <tr>\n",
       "            <td>chn </td> <td>808,510,713     </td> <td>2.31                              </td> <td>22                                   </td>\n",
       "        </tr>\n",
       "        <tr>\n",
       "            <td>cod </td> <td>20,009,902      </td> <td>5.75                              </td> <td>113.3                                </td>\n",
       "        </tr>\n",
       "        <tr>\n",
       "            <td>col </td> <td>22,061,214      </td> <td>5.6                               </td> <td>97.6                                 </td>\n",
       "        </tr>\n",
       "        <tr>\n",
       "            <td>deu </td> <td>78,366,605      </td> <td>6.21                              </td> <td>248.1                                </td>\n",
       "        </tr>\n",
       "        <tr>\n",
       "            <td>dza </td> <td>14,550,033      </td> <td>5.94                              </td> <td>242.9                                </td>\n",
       "        </tr>\n",
       "    </tbody>\n",
       "</table>\n",
       "<p>... (40 rows omitted)</p>"
      ],
      "text/plain": [
       "geo  | population_total | children_per_woman_total_fertility | child_mortality_under_5_per_1000_born\n",
       "afg  | 11,121,097       | 7.67                               | 307.8\n",
       "arg  | 23,973,062       | 7.64                               | 242.2\n",
       "bgd  | 65,048,701       | 3.07                               | 72.4\n",
       "bra  | 95,982,453       | 6.95                               | 224.1\n",
       "can  | 21,439,200       | 5.02                               | 133.7\n",
       "chn  | 808,510,713      | 2.31                               | 22\n",
       "cod  | 20,009,902       | 5.75                               | 113.3\n",
       "col  | 22,061,214       | 5.6                                | 97.6\n",
       "deu  | 78,366,605       | 6.21                               | 248.1\n",
       "dza  | 14,550,033       | 5.94                               | 242.9\n",
       "... (40 rows omitted)"
      ]
     },
     "execution_count": 20,
     "metadata": {},
     "output_type": "execute_result"
    }
   ],
   "source": [
    "stats_for_year(1970)"
   ]
  },
  {
   "cell_type": "markdown",
   "metadata": {
    "deletable": false
   },
   "source": [
    "**Question 12.** Create a table called `pop_by_decade` with two columns called `decade` and `population`. It has a row for each `year` since 1960 that starts a decade. The `population` column contains the total population of all countries included in the result of `stats_for_year(year)` for the first `year` of the decade. For example, 1960 is the first year of the 1960's decade. You should see that these countries contain most of the world's population.\n",
    "\n",
    "*Hint:* One approach is to define a function `pop_for_year` that computes this total population, then `apply` it to the `decade` column.  The `stats_for_year` function from the previous question may be useful here. **Warning:** test your `pop_by_year` function to make sure that it is giving you sensible output.\n",
    "\n",
    "**Note:** The `pop_by_decade` cell is directly below the cell containing the helper function `pop_for_year`. This is where you will generate the `pop_by_decade` table!"
   ]
  },
  {
   "cell_type": "code",
   "execution_count": 21,
   "metadata": {},
   "outputs": [],
   "source": [
    "def pop_for_year(year):\n",
    "    population_by_year = sum(stats_for_year(year).column('population_total'))\n",
    "    return population_by_year"
   ]
  },
  {
   "cell_type": "code",
   "execution_count": 22,
   "metadata": {
    "deletable": false
   },
   "outputs": [
    {
     "name": "stderr",
     "output_type": "stream",
     "text": [
      "C:\\Users\\LENOVO\\Anaconda3\\lib\\site-packages\\ipykernel_launcher.py:2: RuntimeWarning: overflow encountered in long_scalars\n",
      "  \n"
     ]
    },
    {
     "data": {
      "text/html": [
       "<table border=\"1\" class=\"dataframe\">\n",
       "    <thead>\n",
       "        <tr>\n",
       "            <th>decade</th> <th>population</th>\n",
       "        </tr>\n",
       "    </thead>\n",
       "    <tbody>\n",
       "        <tr>\n",
       "            <td>1,960 </td> <td>-1,670,022,699</td>\n",
       "        </tr>\n",
       "        <tr>\n",
       "            <td>1,970 </td> <td>-1,083,479,878</td>\n",
       "        </tr>\n",
       "        <tr>\n",
       "            <td>1,980 </td> <td>-414,245,293  </td>\n",
       "        </tr>\n",
       "        <tr>\n",
       "            <td>1,990 </td> <td>353,467,262   </td>\n",
       "        </tr>\n",
       "        <tr>\n",
       "            <td>2,000 </td> <td>1,072,585,767 </td>\n",
       "        </tr>\n",
       "        <tr>\n",
       "            <td>2,010 </td> <td>1,745,843,221 </td>\n",
       "        </tr>\n",
       "    </tbody>\n",
       "</table>"
      ],
      "text/plain": [
       "<IPython.core.display.HTML object>"
      ]
     },
     "metadata": {},
     "output_type": "display_data"
    }
   ],
   "source": [
    "decades = Table().with_column('decade', np.arange(1960, 2011, 10))\n",
    "pop = decades.apply(pop_for_year, 'decade')\n",
    "pop\n",
    "\n",
    "pop_by_decade = Table().with_columns('decade', decades.column('decade'), 'population', pop)\n",
    "pop_by_decade.set_format(1, NumberFormatter)\n",
    "pop_by_decade.show()"
   ]
  },
  {
   "cell_type": "markdown",
   "metadata": {
    "deletable": false,
    "editable": false
   },
   "source": [
    "The `countries` table describes various characteristics of countries. The `country` column contains the same codes as the `geo` column in each of the other data tables (`population`, `fertility`, and `child_mortality`). The `world_6region` column classifies each country into a region of the world. Run the cell below to inspect the data."
   ]
  },
  {
   "cell_type": "code",
   "execution_count": 23,
   "metadata": {
    "deletable": false,
    "editable": false
   },
   "outputs": [
    {
     "data": {
      "text/html": [
       "<table border=\"1\" class=\"dataframe\">\n",
       "    <thead>\n",
       "        <tr>\n",
       "            <th>country</th> <th>name</th> <th>world_6region</th>\n",
       "        </tr>\n",
       "    </thead>\n",
       "    <tbody>\n",
       "        <tr>\n",
       "            <td>afg      </td> <td>Afghanistan          </td> <td>south_asia              </td>\n",
       "        </tr>\n",
       "        <tr>\n",
       "            <td>akr_a_dhe</td> <td>Akrotiri and Dhekelia</td> <td>europe_central_asia     </td>\n",
       "        </tr>\n",
       "        <tr>\n",
       "            <td>alb      </td> <td>Albania              </td> <td>europe_central_asia     </td>\n",
       "        </tr>\n",
       "        <tr>\n",
       "            <td>dza      </td> <td>Algeria              </td> <td>middle_east_north_africa</td>\n",
       "        </tr>\n",
       "        <tr>\n",
       "            <td>asm      </td> <td>American Samoa       </td> <td>east_asia_pacific       </td>\n",
       "        </tr>\n",
       "        <tr>\n",
       "            <td>and      </td> <td>Andorra              </td> <td>europe_central_asia     </td>\n",
       "        </tr>\n",
       "        <tr>\n",
       "            <td>ago      </td> <td>Angola               </td> <td>sub_saharan_africa      </td>\n",
       "        </tr>\n",
       "        <tr>\n",
       "            <td>aia      </td> <td>Anguilla             </td> <td>america                 </td>\n",
       "        </tr>\n",
       "        <tr>\n",
       "            <td>atg      </td> <td>Antigua and Barbuda  </td> <td>america                 </td>\n",
       "        </tr>\n",
       "        <tr>\n",
       "            <td>arg      </td> <td>Argentina            </td> <td>america                 </td>\n",
       "        </tr>\n",
       "    </tbody>\n",
       "</table>\n",
       "<p>... (245 rows omitted)</p>"
      ],
      "text/plain": [
       "country   | name                  | world_6region\n",
       "afg       | Afghanistan           | south_asia\n",
       "akr_a_dhe | Akrotiri and Dhekelia | europe_central_asia\n",
       "alb       | Albania               | europe_central_asia\n",
       "dza       | Algeria               | middle_east_north_africa\n",
       "asm       | American Samoa        | east_asia_pacific\n",
       "and       | Andorra               | europe_central_asia\n",
       "ago       | Angola                | sub_saharan_africa\n",
       "aia       | Anguilla              | america\n",
       "atg       | Antigua and Barbuda   | america\n",
       "arg       | Argentina             | america\n",
       "... (245 rows omitted)"
      ]
     },
     "execution_count": 23,
     "metadata": {},
     "output_type": "execute_result"
    }
   ],
   "source": [
    "countries = Table.read_table('countries.csv').where('country', are.contained_in(population.group('geo').column(0)))\n",
    "countries.select('country', 'name', 'world_6region')"
   ]
  },
  {
   "cell_type": "markdown",
   "metadata": {
    "deletable": false,
    "editable": false
   },
   "source": [
    "**Question 13.** Create a table called `region_counts` that has two columns, `region` and `count`. It should describe the count of how many countries in each region appear in the result of `stats_for_year(1960)`. For example, one row would have `south_asia` as its `world_6region` value and an integer as its `count` value: the number of large South Asian countries for which we have population, fertility, and child mortality numbers from 1960."
   ]
  },
  {
   "cell_type": "code",
   "execution_count": 24,
   "metadata": {},
   "outputs": [
    {
     "data": {
      "text/html": [
       "<table border=\"1\" class=\"dataframe\">\n",
       "    <thead>\n",
       "        <tr>\n",
       "            <th>geo</th> <th>population_total</th> <th>children_per_woman_total_fertility</th> <th>child_mortality_under_5_per_1000_born</th> <th>gwid</th> <th>name</th> <th>world_6region</th> <th>income_groups</th> <th>landlocked</th> <th>g77_and_oecd_countries</th> <th>main_religion_2008</th> <th>gapminder_list</th> <th>alternative_1</th> <th>alternative_2</th> <th>alternative_3</th> <th>alternative_4_cdiac</th> <th>pandg</th> <th>god_id</th> <th>alt_5</th> <th>upper_case_name</th> <th>code</th> <th>number</th> <th>arb1</th> <th>arb2</th> <th>arb3</th> <th>arb4</th> <th>arb5</th> <th>arb6</th> <th>is--country</th> <th>world_4region</th> <th>latitude</th> <th>longitude</th>\n",
       "        </tr>\n",
       "    </thead>\n",
       "    <tbody>\n",
       "        <tr>\n",
       "            <td>zaf </td> <td>17,396,367      </td> <td>7.29                              </td> <td>425.5                                </td> <td>i209</td> <td>South Africa    </td> <td>sub_saharan_africa      </td> <td>upper_middle_income</td> <td>coastline </td> <td>g77                   </td> <td>christian         </td> <td>South Africa             </td> <td>South Africa Republic             </td> <td>nan          </td> <td>nan                         </td> <td>South Africa                                     </td> <td>SOUTH AFRICA  </td> <td>ZA    </td> <td>nan                             </td> <td>SOUTH AFRICA                             </td> <td>ZAF </td> <td>710   </td> <td>South_Africa</td> <td>nan                          </td> <td>nan        </td> <td>nan             </td> <td>nan        </td> <td>nan            </td> <td>True       </td> <td>africa       </td> <td>-29     </td> <td>24       </td>\n",
       "        </tr>\n",
       "        <tr>\n",
       "            <td>afg </td> <td>8,994,793       </td> <td>7.67                              </td> <td>362.4                                </td> <td>i1  </td> <td>Afghanistan     </td> <td>south_asia              </td> <td>low_income         </td> <td>landlocked</td> <td>g77                   </td> <td>muslim            </td> <td>Afghanistan              </td> <td>Islamic Republic of Afghanistan   </td> <td>nan          </td> <td>nan                         </td> <td>Afghanistan                                      </td> <td>AFGHANISTAN   </td> <td>AF    </td> <td>nan                             </td> <td>AFGHANISTAN                              </td> <td>AFG </td> <td>4     </td> <td>nan         </td> <td>nan                          </td> <td>nan        </td> <td>nan             </td> <td>nan        </td> <td>nan            </td> <td>True       </td> <td>asia         </td> <td>33      </td> <td>66       </td>\n",
       "        </tr>\n",
       "        <tr>\n",
       "            <td>nga </td> <td>45,211,614      </td> <td>6.35                              </td> <td>337.3                                </td> <td>i163</td> <td>Nigeria         </td> <td>sub_saharan_africa      </td> <td>lower_middle_income</td> <td>coastline </td> <td>g77                   </td> <td>nan               </td> <td>Nigeria                  </td> <td>nan                               </td> <td>nan          </td> <td>nan                         </td> <td>Nigeria                                          </td> <td>NIGERIA       </td> <td>NG    </td> <td>nan                             </td> <td>NIGERIA                                  </td> <td>NGA </td> <td>566   </td> <td>nan         </td> <td>nan                          </td> <td>nan        </td> <td>nan             </td> <td>nan        </td> <td>nan            </td> <td>True       </td> <td>africa       </td> <td>10      </td> <td>8        </td>\n",
       "        </tr>\n",
       "        <tr>\n",
       "            <td>mys </td> <td>8,160,975       </td> <td>5.99                              </td> <td>327.1                                </td> <td>i134</td> <td>Malaysia        </td> <td>east_asia_pacific       </td> <td>upper_middle_income</td> <td>coastline </td> <td>g77                   </td> <td>muslim            </td> <td>Malaysia                 </td> <td>nan                               </td> <td>nan          </td> <td>nan                         </td> <td>Malaysia                                         </td> <td>MALAYSIA      </td> <td>MY    </td> <td>nan                             </td> <td>MALAYSIA                                 </td> <td>MYS </td> <td>458   </td> <td>nan         </td> <td>nan                          </td> <td>nan        </td> <td>nan             </td> <td>nan        </td> <td>nan            </td> <td>True       </td> <td>asia         </td> <td>2.5     </td> <td>112.5    </td>\n",
       "        </tr>\n",
       "        <tr>\n",
       "            <td>dza </td> <td>11,124,892      </td> <td>6.63                              </td> <td>312.8                                </td> <td>i4  </td> <td>Algeria         </td> <td>middle_east_north_africa</td> <td>upper_middle_income</td> <td>coastline </td> <td>g77                   </td> <td>muslim            </td> <td>Algeria                  </td> <td>nan                               </td> <td>nan          </td> <td>nan                         </td> <td>Algeria                                          </td> <td>ALGERIA       </td> <td>DZ    </td> <td>nan                             </td> <td>ALGERIA                                  </td> <td>DZA </td> <td>12    </td> <td>nan         </td> <td>nan                          </td> <td>nan        </td> <td>nan             </td> <td>nan        </td> <td>nan            </td> <td>True       </td> <td>africa       </td> <td>28      </td> <td>3        </td>\n",
       "        </tr>\n",
       "        <tr>\n",
       "            <td>cod </td> <td>15,248,246      </td> <td>3.99                              </td> <td>309                                  </td> <td>i49 </td> <td>Congo, Dem. Rep.</td> <td>sub_saharan_africa      </td> <td>low_income         </td> <td>landlocked</td> <td>g77                   </td> <td>christian         </td> <td>Congo_Democratic_Republic</td> <td>Congo (Democratic Republic of the)</td> <td>Congo Dem Rep</td> <td>Democratic Republic of Congo</td> <td>Democratic Republic Of The Congo (Formerly Zaire)</td> <td>CONGO, DEM REP</td> <td>CD    </td> <td>Democratic Republic Of The Congo</td> <td>CONGO, Democratic Republic of (was Zaire)</td> <td>COD </td> <td>180   </td> <td>Congo DR    </td> <td>Congo, Democratic Republic of</td> <td>Congo [DRC]</td> <td>Congo - Kinshasa</td> <td>Congo [DRC]</td> <td>Dem. Rep. Congo</td> <td>True       </td> <td>africa       </td> <td>-2.5    </td> <td>23.5     </td>\n",
       "        </tr>\n",
       "        <tr>\n",
       "            <td>mmr </td> <td>21,486,424      </td> <td>6.6                               </td> <td>300.8                                </td> <td>i152</td> <td>Myanmar         </td> <td>east_asia_pacific       </td> <td>low_income         </td> <td>coastline </td> <td>g77                   </td> <td>eastern_religions </td> <td>Myanmar                  </td> <td>Burma                             </td> <td>Myanmar/Burma</td> <td>MYANMAR (FORMERLY BURMA)    </td> <td>Myanmar                                          </td> <td>nan           </td> <td>MM    </td> <td>Myanmar [Burma]                 </td> <td>MYANMAR                                  </td> <td>MMR </td> <td>104   </td> <td>nan         </td> <td>nan                          </td> <td>nan        </td> <td>nan             </td> <td>nan        </td> <td>nan            </td> <td>True       </td> <td>asia         </td> <td>21      </td> <td>96       </td>\n",
       "        </tr>\n",
       "        <tr>\n",
       "            <td>idn </td> <td>87,792,512      </td> <td>6.93                              </td> <td>300.1                                </td> <td>i102</td> <td>Indonesia       </td> <td>east_asia_pacific       </td> <td>lower_middle_income</td> <td>coastline </td> <td>g77                   </td> <td>muslim            </td> <td>Indonesia                </td> <td>nan                               </td> <td>nan          </td> <td>nan                         </td> <td>Indonesia                                        </td> <td>INDONESIA     </td> <td>ID    </td> <td>nan                             </td> <td>INDONESIA                                </td> <td>IDN </td> <td>360   </td> <td>nan         </td> <td>nan                          </td> <td>nan        </td> <td>nan             </td> <td>nan        </td> <td>nan            </td> <td>True       </td> <td>asia         </td> <td>-5      </td> <td>120      </td>\n",
       "        </tr>\n",
       "        <tr>\n",
       "            <td>egy </td> <td>27,072,397      </td> <td>6.88                              </td> <td>286.4                                </td> <td>i65 </td> <td>Egypt           </td> <td>middle_east_north_africa</td> <td>lower_middle_income</td> <td>coastline </td> <td>g77                   </td> <td>muslim            </td> <td>Egypt                    </td> <td>Egypt, Arab Rep.                  </td> <td>nan          </td> <td>nan                         </td> <td>nan                                              </td> <td>EGYPT         </td> <td>EG    </td> <td>nan                             </td> <td>EGYPT                                    </td> <td>EGY </td> <td>818   </td> <td>nan         </td> <td>nan                          </td> <td>nan        </td> <td>nan             </td> <td>nan        </td> <td>nan            </td> <td>True       </td> <td>africa       </td> <td>27      </td> <td>30       </td>\n",
       "        </tr>\n",
       "        <tr>\n",
       "            <td>moz </td> <td>7,493,278       </td> <td>6.05                              </td> <td>276.7                                </td> <td>i151</td> <td>Mozambique      </td> <td>sub_saharan_africa      </td> <td>low_income         </td> <td>coastline </td> <td>g77                   </td> <td>christian         </td> <td>Mozambique               </td> <td>nan                               </td> <td>nan          </td> <td>nan                         </td> <td>Mozambique                                       </td> <td>MOZAMBIQUE    </td> <td>MZ    </td> <td>nan                             </td> <td>MOZAMBIQUE                               </td> <td>MOZ </td> <td>508   </td> <td>nan         </td> <td>nan                          </td> <td>nan        </td> <td>nan             </td> <td>nan        </td> <td>nan            </td> <td>True       </td> <td>africa       </td> <td>-18.25  </td> <td>35       </td>\n",
       "        </tr>\n",
       "    </tbody>\n",
       "</table>\n",
       "<p>... (40 rows omitted)</p>"
      ],
      "text/plain": [
       "geo  | population_total | children_per_woman_total_fertility | child_mortality_under_5_per_1000_born | gwid | name             | world_6region            | income_groups       | landlocked | g77_and_oecd_countries | main_religion_2008 | gapminder_list            | alternative_1                      | alternative_2 | alternative_3                | alternative_4_cdiac                               | pandg          | god_id | alt_5                            | upper_case_name                           | code | number | arb1         | arb2                          | arb3        | arb4             | arb5        | arb6            | is--country | world_4region | latitude | longitude\n",
       "zaf  | 17,396,367       | 7.29                               | 425.5                                 | i209 | South Africa     | sub_saharan_africa       | upper_middle_income | coastline  | g77                    | christian          | South Africa              | South Africa Republic              | nan           | nan                          | South Africa                                      | SOUTH AFRICA   | ZA     | nan                              | SOUTH AFRICA                              | ZAF  | 710    | South_Africa | nan                           | nan         | nan              | nan         | nan             | True        | africa        | -29      | 24\n",
       "afg  | 8,994,793        | 7.67                               | 362.4                                 | i1   | Afghanistan      | south_asia               | low_income          | landlocked | g77                    | muslim             | Afghanistan               | Islamic Republic of Afghanistan    | nan           | nan                          | Afghanistan                                       | AFGHANISTAN    | AF     | nan                              | AFGHANISTAN                               | AFG  | 4      | nan          | nan                           | nan         | nan              | nan         | nan             | True        | asia          | 33       | 66\n",
       "nga  | 45,211,614       | 6.35                               | 337.3                                 | i163 | Nigeria          | sub_saharan_africa       | lower_middle_income | coastline  | g77                    | nan                | Nigeria                   | nan                                | nan           | nan                          | Nigeria                                           | NIGERIA        | NG     | nan                              | NIGERIA                                   | NGA  | 566    | nan          | nan                           | nan         | nan              | nan         | nan             | True        | africa        | 10       | 8\n",
       "mys  | 8,160,975        | 5.99                               | 327.1                                 | i134 | Malaysia         | east_asia_pacific        | upper_middle_income | coastline  | g77                    | muslim             | Malaysia                  | nan                                | nan           | nan                          | Malaysia                                          | MALAYSIA       | MY     | nan                              | MALAYSIA                                  | MYS  | 458    | nan          | nan                           | nan         | nan              | nan         | nan             | True        | asia          | 2.5      | 112.5\n",
       "dza  | 11,124,892       | 6.63                               | 312.8                                 | i4   | Algeria          | middle_east_north_africa | upper_middle_income | coastline  | g77                    | muslim             | Algeria                   | nan                                | nan           | nan                          | Algeria                                           | ALGERIA        | DZ     | nan                              | ALGERIA                                   | DZA  | 12     | nan          | nan                           | nan         | nan              | nan         | nan             | True        | africa        | 28       | 3\n",
       "cod  | 15,248,246       | 3.99                               | 309                                   | i49  | Congo, Dem. Rep. | sub_saharan_africa       | low_income          | landlocked | g77                    | christian          | Congo_Democratic_Republic | Congo (Democratic Republic of the) | Congo Dem Rep | Democratic Republic of Congo | Democratic Republic Of The Congo (Formerly Zaire) | CONGO, DEM REP | CD     | Democratic Republic Of The Congo | CONGO, Democratic Republic of (was Zaire) | COD  | 180    | Congo DR     | Congo, Democratic Republic of | Congo [DRC] | Congo - Kinshasa | Congo [DRC] | Dem. Rep. Congo | True        | africa        | -2.5     | 23.5\n",
       "mmr  | 21,486,424       | 6.6                                | 300.8                                 | i152 | Myanmar          | east_asia_pacific        | low_income          | coastline  | g77                    | eastern_religions  | Myanmar                   | Burma                              | Myanmar/Burma | MYANMAR (FORMERLY BURMA)     | Myanmar                                           | nan            | MM     | Myanmar [Burma]                  | MYANMAR                                   | MMR  | 104    | nan          | nan                           | nan         | nan              | nan         | nan             | True        | asia          | 21       | 96\n",
       "idn  | 87,792,512       | 6.93                               | 300.1                                 | i102 | Indonesia        | east_asia_pacific        | lower_middle_income | coastline  | g77                    | muslim             | Indonesia                 | nan                                | nan           | nan                          | Indonesia                                         | INDONESIA      | ID     | nan                              | INDONESIA                                 | IDN  | 360    | nan          | nan                           | nan         | nan              | nan         | nan             | True        | asia          | -5       | 120\n",
       "egy  | 27,072,397       | 6.88                               | 286.4                                 | i65  | Egypt            | middle_east_north_africa | lower_middle_income | coastline  | g77                    | muslim             | Egypt                     | Egypt, Arab Rep.                   | nan           | nan                          | nan                                               | EGYPT          | EG     | nan                              | EGYPT                                     | EGY  | 818    | nan          | nan                           | nan         | nan              | nan         | nan             | True        | africa        | 27       | 30\n",
       "moz  | 7,493,278        | 6.05                               | 276.7                                 | i151 | Mozambique       | sub_saharan_africa       | low_income          | coastline  | g77                    | christian          | Mozambique                | nan                                | nan           | nan                          | Mozambique                                        | MOZAMBIQUE     | MZ     | nan                              | MOZAMBIQUE                                | MOZ  | 508    | nan          | nan                           | nan         | nan              | nan         | nan             | True        | africa        | -18.25   | 35\n",
       "... (40 rows omitted)"
      ]
     },
     "execution_count": 24,
     "metadata": {},
     "output_type": "execute_result"
    }
   ],
   "source": [
    "stat = stats_for_year(1960)\n",
    "stat_with_region = stat.join('geo',countries,'country').sort('child_mortality_under_5_per_1000_born', descending= True)\n",
    "stat_with_region"
   ]
  },
  {
   "cell_type": "code",
   "execution_count": 25,
   "metadata": {
    "deletable": false
   },
   "outputs": [
    {
     "data": {
      "text/html": [
       "<table border=\"1\" class=\"dataframe\">\n",
       "    <thead>\n",
       "        <tr>\n",
       "            <th>region</th> <th>count</th>\n",
       "        </tr>\n",
       "    </thead>\n",
       "    <tbody>\n",
       "        <tr>\n",
       "            <td>america                 </td> <td>8    </td>\n",
       "        </tr>\n",
       "        <tr>\n",
       "            <td>east_asia_pacific       </td> <td>10   </td>\n",
       "        </tr>\n",
       "        <tr>\n",
       "            <td>europe_central_asia     </td> <td>10   </td>\n",
       "        </tr>\n",
       "        <tr>\n",
       "            <td>middle_east_north_africa</td> <td>7    </td>\n",
       "        </tr>\n",
       "        <tr>\n",
       "            <td>south_asia              </td> <td>5    </td>\n",
       "        </tr>\n",
       "        <tr>\n",
       "            <td>sub_saharan_africa      </td> <td>10   </td>\n",
       "        </tr>\n",
       "    </tbody>\n",
       "</table>"
      ],
      "text/plain": [
       "region                   | count\n",
       "america                  | 8\n",
       "east_asia_pacific        | 10\n",
       "europe_central_asia      | 10\n",
       "middle_east_north_africa | 7\n",
       "south_asia               | 5\n",
       "sub_saharan_africa       | 10"
      ]
     },
     "execution_count": 25,
     "metadata": {},
     "output_type": "execute_result"
    }
   ],
   "source": [
    "region_counts = stat_with_region.group('world_6region').relabeled(0,'region')\n",
    "region_counts"
   ]
  },
  {
   "cell_type": "markdown",
   "metadata": {
    "deletable": false,
    "editable": false
   },
   "source": [
    "The following scatter diagram compares total fertility rate and child mortality rate for each country in 1960. The area of each dot represents the population of the country, and the color represents its region of the world. Run the cell. Do you think you can identify any of the dots?"
   ]
  },
  {
   "cell_type": "code",
   "execution_count": 26,
   "metadata": {
    "deletable": false
   },
   "outputs": [
    {
     "data": {
      "image/png": "[encoded data removed]",
      "text/plain": [
       "<Figure size 360x360 with 1 Axes>"
      ]
     },
     "metadata": {},
     "output_type": "display_data"
    }
   ],
   "source": [
    "from functools import lru_cache as cache\n",
    "\n",
    "# This cache annotation makes sure that if the same year\n",
    "# is passed as an argument twice, the work of computing\n",
    "# the result is only carried out once.\n",
    "@cache(None)\n",
    "def stats_relabeled(year):\n",
    "    \"\"\"Relabeled and cached version of stats_for_year.\"\"\"\n",
    "    return stats_for_year(year).relabeled(2, 'Children per woman').relabeled(3, 'Child deaths per 1000 born')\n",
    "\n",
    "def fertility_vs_child_mortality(year):\n",
    "    \"\"\"Draw a color scatter diagram comparing child mortality and fertility.\"\"\"\n",
    "    with_region = stats_relabeled(year).join('geo', countries.select('country', 'world_6region'), 'country')\n",
    "    with_region.scatter(2, 3, sizes=1, colors=4, s=500)\n",
    "    plots.xlim(0,10)\n",
    "    plots.ylim(-50, 500)\n",
    "    plots.title(year)\n",
    "\n",
    "fertility_vs_child_mortality(1960)"
   ]
  },
  {
   "cell_type": "markdown",
   "metadata": {
    "deletable": false,
    "editable": false
   },
   "source": [
    "**Question 14.** Assign `scatter_statements` to a list of the numbers of each statement below that can be inferred from this scatter diagram for 1960. \n",
    "1. The `europe_central_asia` region had the lowest child mortality rate.\n",
    "1. The lowest child mortality rate of any country was from an `east_asian_pacific` country.\n",
    "1. Most countries had a fertility rate above 5.\n",
    "1. There was an association between child mortality and fertility.\n",
    "1. The two largest countries by population also had the two highest child mortality rate."
   ]
  },
  {
   "cell_type": "code",
   "execution_count": 27,
   "metadata": {
    "deletable": false
   },
   "outputs": [],
   "source": [
    "scatter_statements = [2,3,4]"
   ]
  },
  {
   "cell_type": "markdown",
   "metadata": {
    "deletable": false
   },
   "source": [
    "The result of the cell below is interactive. Drag the slider to the right to see how countries have changed over time. You'll find that the great divide between so-called \"Western\" and \"developing\" countries that existed in the 1960's has nearly disappeared. This shift in fertility rates is the reason that the global population is expected to grow more slowly in the 21st century than it did in the 19th and 20th centuries."
   ]
  },
  {
   "cell_type": "code",
   "execution_count": 28,
   "metadata": {
    "deletable": false,
    "scrolled": false
   },
   "outputs": [
    {
     "name": "stderr",
     "output_type": "stream",
     "text": [
      "C:\\Users\\LENOVO\\Anaconda3\\lib\\site-packages\\datascience\\tables.py:192: FutureWarning: Implicit column method lookup is deprecated.\n",
      "  warnings.warn(\"Implicit column method lookup is deprecated.\", FutureWarning)\n"
     ]
    },
    {
     "data": {
      "application/vnd.jupyter.widget-view+json": {
       "model_id": "4254de1eb2754378a49ff8be02f8c5b1",
       "version_major": 2,
       "version_minor": 0
      },
      "text/plain": [
       "interactive(children=(IntSlider(value=1960, description='year', max=2015, min=1960), Output()), _dom_classes=(…"
      ]
     },
     "metadata": {},
     "output_type": "display_data"
    }
   ],
   "source": [
    "import ipywidgets as widgets\n",
    "\n",
    "# This part takes a few minutes to run because it \n",
    "# computes 55 tables in advance: one for each year.\n",
    "Table().with_column('Year', np.arange(1960, 2016)).apply(stats_relabeled, 'Year')\n",
    "\n",
    "_ = widgets.interact(fertility_vs_child_mortality, \n",
    "                     year=widgets.IntSlider(min=1960, max=2015, value=1960))"
   ]
  },
  {
   "cell_type": "markdown",
   "metadata": {
    "deletable": false,
    "editable": false
   },
   "source": [
    "Now is a great time to take a break and watch the same data presented by [Hans Rosling in a 2010 TEDx talk](https://www.gapminder.org/videos/reducing-child-mortality-a-moral-and-environmental-imperative) with smoother animation and witty commentary."
   ]
  },
  {
   "cell_type": "markdown",
   "metadata": {
    "deletable": false,
    "editable": false
   },
   "source": [
    "## 2. Global Poverty\n"
   ]
  },
  {
   "cell_type": "markdown",
   "metadata": {
    "deletable": false,
    "editable": false
   },
   "source": [
    "In 1800, 85% of the world's 1 billion people lived in *extreme poverty*, defined by the United Nations as \"a condition characterized by severe deprivation of basic human needs, including food, safe drinking water, sanitation facilities, health, shelter, education and information.\" A common measure of extreme poverty is a person living on less than \\$1.25 per day.\n",
    "\n",
    "In 2018, the proportion of people living in extreme poverty was estimated to be 8%. Although the world rate of extreme poverty has declined consistently for hundreds of years, the number of people living in extreme poverty is still over 600 million. The United Nations recently adopted an [ambitious goal](http://www.un.org/sustainabledevelopment/poverty/): \"By 2030, eradicate extreme poverty for all people everywhere.\"\n",
    "In this section, we will examine extreme poverty trends around the world."
   ]
  },
  {
   "cell_type": "markdown",
   "metadata": {
    "deletable": false,
    "editable": false
   },
   "source": [
    "First, load the population and poverty rate by country and year and the country descriptions. While the `population` table has values for every recent year for many countries, the `poverty` table only includes certain years for each country in which a measurement of the rate of extreme poverty was available."
   ]
  },
  {
   "cell_type": "code",
   "execution_count": 29,
   "metadata": {
    "deletable": false,
    "editable": false
   },
   "outputs": [
    {
     "data": {
      "text/html": [
       "<table border=\"1\" class=\"dataframe\">\n",
       "    <thead>\n",
       "        <tr>\n",
       "            <th>geo</th> <th>time</th> <th>extreme_poverty_percent_people_below_125_a_day</th>\n",
       "        </tr>\n",
       "    </thead>\n",
       "    <tbody>\n",
       "        <tr>\n",
       "            <td>alb </td> <td>1,996</td> <td>0.2                                           </td>\n",
       "        </tr>\n",
       "        <tr>\n",
       "            <td>alb </td> <td>2,002</td> <td>0.73                                          </td>\n",
       "        </tr>\n",
       "        <tr>\n",
       "            <td>alb </td> <td>2,004</td> <td>0.53                                          </td>\n",
       "        </tr>\n",
       "    </tbody>\n",
       "</table>\n",
       "<p>... (1096 rows omitted)</p>"
      ],
      "text/plain": [
       "<IPython.core.display.HTML object>"
      ]
     },
     "metadata": {},
     "output_type": "display_data"
    }
   ],
   "source": [
    "population = Table.read_table('population.csv')\n",
    "countries = Table.read_table('countries.csv').where('country', are.contained_in(population.group('geo').column(0)))\n",
    "poverty = Table.read_table('poverty.csv')\n",
    "poverty.show(3)"
   ]
  },
  {
   "cell_type": "markdown",
   "metadata": {
    "deletable": false
   },
   "source": [
    "**Question 1.** Assign `latest_poverty` to a three-column table with one row for each country that appears in the `poverty` table. The first column should contain the 3-letter code for the country. The second column should contain the *most recent_poverty_total year* for which an extreme poverty rate is available for the country. The third column should contain the poverty rate in that year. **Do not change the last line, so that the labels of your table are set correctly.**\n",
    "\n",
    "*Hint*: think about how ```group``` works: it does a sequential search of the table (from top to bottom) and collects values in the array in the order in which they appear, and then applies a function to that array. The `first` function may be helpful, but you are not required to use it. \n",
    "\n",
    "\n",
    "*Hint*: You should check that the row corresponding to country code bdi has time 2006 and poverty 81.32."
   ]
  },
  {
   "cell_type": "code",
   "execution_count": 30,
   "metadata": {},
   "outputs": [
    {
     "ename": "NameError",
     "evalue": "name 'first' is not defined",
     "output_type": "error",
     "traceback": [
      "\u001b[1;31m---------------------------------------------------------------------------\u001b[0m",
      "\u001b[1;31mNameError\u001b[0m                                 Traceback (most recent call last)",
      "\u001b[1;32m<ipython-input-30-9dc9c71eb4d6>\u001b[0m in \u001b[0;36m<module>\u001b[1;34m\u001b[0m\n\u001b[1;32m----> 1\u001b[1;33m \u001b[0mlatest_poverty\u001b[0m \u001b[1;33m=\u001b[0m \u001b[0mpoverty\u001b[0m\u001b[1;33m.\u001b[0m\u001b[0msort\u001b[0m\u001b[1;33m(\u001b[0m\u001b[1;34m'time'\u001b[0m\u001b[1;33m,\u001b[0m \u001b[0mdescending\u001b[0m \u001b[1;33m=\u001b[0m \u001b[1;32mTrue\u001b[0m\u001b[1;33m)\u001b[0m\u001b[1;33m.\u001b[0m\u001b[0mgroup\u001b[0m\u001b[1;33m(\u001b[0m\u001b[1;34m'geo'\u001b[0m\u001b[1;33m,\u001b[0m \u001b[0mfirst\u001b[0m\u001b[1;33m)\u001b[0m\u001b[1;33m\u001b[0m\u001b[1;33m\u001b[0m\u001b[0m\n\u001b[0m\u001b[0;32m      2\u001b[0m \u001b[0mlatest_poverty\u001b[0m\u001b[1;33m\u001b[0m\u001b[1;33m\u001b[0m\u001b[0m\n",
      "\u001b[1;31mNameError\u001b[0m: name 'first' is not defined"
     ]
    }
   ],
   "source": [
    "latest_poverty = poverty.sort('time', descending = True).group('geo', first)\n",
    "latest_poverty"
   ]
  },
  {
   "cell_type": "code",
   "execution_count": 31,
   "metadata": {
    "deletable": false
   },
   "outputs": [
    {
     "data": {
      "text/html": [
       "<table border=\"1\" class=\"dataframe\">\n",
       "    <thead>\n",
       "        <tr>\n",
       "            <th>geo</th> <th>time</th> <th>poverty_percent</th>\n",
       "        </tr>\n",
       "    </thead>\n",
       "    <tbody>\n",
       "        <tr>\n",
       "            <td>ago </td> <td>2,009</td> <td>43.37          </td>\n",
       "        </tr>\n",
       "        <tr>\n",
       "            <td>alb </td> <td>2,012</td> <td>0.46           </td>\n",
       "        </tr>\n",
       "        <tr>\n",
       "            <td>arg </td> <td>2,011</td> <td>1.41           </td>\n",
       "        </tr>\n",
       "        <tr>\n",
       "            <td>arm </td> <td>2,012</td> <td>1.75           </td>\n",
       "        </tr>\n",
       "        <tr>\n",
       "            <td>aus </td> <td>2,003</td> <td>1.36           </td>\n",
       "        </tr>\n",
       "        <tr>\n",
       "            <td>aut </td> <td>2,004</td> <td>0.34           </td>\n",
       "        </tr>\n",
       "        <tr>\n",
       "            <td>aze </td> <td>2,008</td> <td>0.31           </td>\n",
       "        </tr>\n",
       "        <tr>\n",
       "            <td>bdi </td> <td>2,006</td> <td>81.32          </td>\n",
       "        </tr>\n",
       "        <tr>\n",
       "            <td>bel </td> <td>2,000</td> <td>0.5            </td>\n",
       "        </tr>\n",
       "        <tr>\n",
       "            <td>ben </td> <td>2,012</td> <td>51.61          </td>\n",
       "        </tr>\n",
       "    </tbody>\n",
       "</table>\n",
       "<p>... (135 rows omitted)</p>"
      ],
      "text/plain": [
       "geo  | time  | poverty_percent\n",
       "ago  | 2,009 | 43.37\n",
       "alb  | 2,012 | 0.46\n",
       "arg  | 2,011 | 1.41\n",
       "arm  | 2,012 | 1.75\n",
       "aus  | 2,003 | 1.36\n",
       "aut  | 2,004 | 0.34\n",
       "aze  | 2,008 | 0.31\n",
       "bdi  | 2,006 | 81.32\n",
       "bel  | 2,000 | 0.5\n",
       "ben  | 2,012 | 51.61\n",
       "... (135 rows omitted)"
      ]
     },
     "execution_count": 31,
     "metadata": {},
     "output_type": "execute_result"
    }
   ],
   "source": [
    "def first(values):\n",
    "    return values.item(0)\n",
    "\n",
    "latest_poverty = poverty.sort('time', descending = True).group('geo', first)\n",
    "\n",
    "latest_poverty.relabel(0, 'geo').relabel(1, 'time').relabel(2, 'poverty_percent') # You should *not* change this line."
   ]
  },
  {
   "cell_type": "markdown",
   "metadata": {
    "deletable": false,
    "editable": false
   },
   "source": [
    "**Question 2.** Using both `latest_poverty` and `population`, create a four-column table called `recent_poverty_total` with one row for each country in `latest_poverty`. The four columns should have the following labels and contents:\n",
    "1. `geo` contains the 3-letter country code,\n",
    "1. `poverty_percent` contains the most recent poverty percent,\n",
    "1. `population_total` contains the population of the country in 2010,\n",
    "1. `poverty_total` contains the number of people in poverty **rounded to the nearest integer**, based on the 2010 population and most recent poverty rate."
   ]
  },
  {
   "cell_type": "code",
   "execution_count": 133,
   "metadata": {},
   "outputs": [
    {
     "data": {
      "text/html": [
       "<table border=\"1\" class=\"dataframe\">\n",
       "    <thead>\n",
       "        <tr>\n",
       "            <th>geo</th> <th>time</th> <th>population_total</th>\n",
       "        </tr>\n",
       "    </thead>\n",
       "    <tbody>\n",
       "        <tr>\n",
       "            <td>abw </td> <td>1,800</td> <td>19,286          </td>\n",
       "        </tr>\n",
       "        <tr>\n",
       "            <td>abw </td> <td>1,801</td> <td>19,286          </td>\n",
       "        </tr>\n",
       "        <tr>\n",
       "            <td>abw </td> <td>1,802</td> <td>19,286          </td>\n",
       "        </tr>\n",
       "        <tr>\n",
       "            <td>abw </td> <td>1,803</td> <td>19,286          </td>\n",
       "        </tr>\n",
       "        <tr>\n",
       "            <td>abw </td> <td>1,804</td> <td>19,286          </td>\n",
       "        </tr>\n",
       "        <tr>\n",
       "            <td>abw </td> <td>1,805</td> <td>19,286          </td>\n",
       "        </tr>\n",
       "        <tr>\n",
       "            <td>abw </td> <td>1,806</td> <td>19,286          </td>\n",
       "        </tr>\n",
       "        <tr>\n",
       "            <td>abw </td> <td>1,807</td> <td>19,286          </td>\n",
       "        </tr>\n",
       "        <tr>\n",
       "            <td>abw </td> <td>1,808</td> <td>19,286          </td>\n",
       "        </tr>\n",
       "        <tr>\n",
       "            <td>abw </td> <td>1,809</td> <td>19,286          </td>\n",
       "        </tr>\n",
       "    </tbody>\n",
       "</table>\n",
       "<p>... (87785 rows omitted)</p>"
      ],
      "text/plain": [
       "geo  | time  | population_total\n",
       "abw  | 1,800 | 19,286\n",
       "abw  | 1,801 | 19,286\n",
       "abw  | 1,802 | 19,286\n",
       "abw  | 1,803 | 19,286\n",
       "abw  | 1,804 | 19,286\n",
       "abw  | 1,805 | 19,286\n",
       "abw  | 1,806 | 19,286\n",
       "abw  | 1,807 | 19,286\n",
       "abw  | 1,808 | 19,286\n",
       "abw  | 1,809 | 19,286\n",
       "... (87785 rows omitted)"
      ]
     },
     "execution_count": 133,
     "metadata": {},
     "output_type": "execute_result"
    }
   ],
   "source": [
    "population"
   ]
  },
  {
   "cell_type": "code",
   "execution_count": 135,
   "metadata": {
    "deletable": false
   },
   "outputs": [
    {
     "data": {
      "text/html": [
       "<table border=\"1\" class=\"dataframe\">\n",
       "    <thead>\n",
       "        <tr>\n",
       "            <th>geo</th> <th>time</th> <th>population_total</th>\n",
       "        </tr>\n",
       "    </thead>\n",
       "    <tbody>\n",
       "        <tr>\n",
       "            <td>abw </td> <td>2,010</td> <td>101,597         </td>\n",
       "        </tr>\n",
       "        <tr>\n",
       "            <td>afg </td> <td>2,010</td> <td>27,962,207      </td>\n",
       "        </tr>\n",
       "        <tr>\n",
       "            <td>ago </td> <td>2,010</td> <td>21,219,954      </td>\n",
       "        </tr>\n",
       "        <tr>\n",
       "            <td>aia </td> <td>2,010</td> <td>15,358          </td>\n",
       "        </tr>\n",
       "        <tr>\n",
       "            <td>ala </td> <td>2,010</td> <td>26,923          </td>\n",
       "        </tr>\n",
       "        <tr>\n",
       "            <td>alb </td> <td>2,010</td> <td>2,901,883       </td>\n",
       "        </tr>\n",
       "        <tr>\n",
       "            <td>and </td> <td>2,010</td> <td>84,864          </td>\n",
       "        </tr>\n",
       "        <tr>\n",
       "            <td>ant </td> <td>2,010</td> <td>200,689         </td>\n",
       "        </tr>\n",
       "        <tr>\n",
       "            <td>are </td> <td>2,010</td> <td>8,329,453       </td>\n",
       "        </tr>\n",
       "        <tr>\n",
       "            <td>arg </td> <td>2,010</td> <td>41,222,875      </td>\n",
       "        </tr>\n",
       "    </tbody>\n",
       "</table>\n",
       "<p>... (227 rows omitted)</p>"
      ],
      "text/plain": [
       "geo  | time  | population_total\n",
       "abw  | 2,010 | 101,597\n",
       "afg  | 2,010 | 27,962,207\n",
       "ago  | 2,010 | 21,219,954\n",
       "aia  | 2,010 | 15,358\n",
       "ala  | 2,010 | 26,923\n",
       "alb  | 2,010 | 2,901,883\n",
       "and  | 2,010 | 84,864\n",
       "ant  | 2,010 | 200,689\n",
       "are  | 2,010 | 8,329,453\n",
       "arg  | 2,010 | 41,222,875\n",
       "... (227 rows omitted)"
      ]
     },
     "execution_count": 135,
     "metadata": {},
     "output_type": "execute_result"
    }
   ],
   "source": [
    "poverty_and_pop = population.where('time', are.equal_to(2010)).column(2)\n",
    "poverty_total =                                                                \n",
    "recent_poverty_total = latest_poverty.where('geo',)\n",
    "recent_poverty_total"
   ]
  },
  {
   "cell_type": "markdown",
   "metadata": {
    "deletable": false,
    "editable": false
   },
   "source": [
    "**Question 3.** Assuming that the `poverty_total` numbers in the `recent_poverty_total` table describe *all* people in 2010 living in extreme poverty, assign the name `poverty_percent` to the percentage of the world's 2010 population that were living in extreme poverty. You should find a number that is above the 2018 global estimate of 8%, since many country-specific poverty rates are older than 2018.\n",
    "\n",
    "*Hint*: The sum of the `population_total` column in the `recent_poverty_total` table is not the world population, because only a subset of the world's countries have known poverty rates. Use the `population` table to compute the world's 2010 total population."
   ]
  },
  {
   "cell_type": "code",
   "execution_count": null,
   "metadata": {
    "deletable": false
   },
   "outputs": [],
   "source": [
    "poverty_percent = ...\n",
    "poverty_percent"
   ]
  },
  {
   "cell_type": "markdown",
   "metadata": {
    "deletable": false,
    "editable": false
   },
   "source": [
    "The `countries` table includes not only the name and region of countries, but also their positions on the globe."
   ]
  },
  {
   "cell_type": "code",
   "execution_count": null,
   "metadata": {
    "deletable": false,
    "editable": false
   },
   "outputs": [],
   "source": [
    "countries.select('country', 'name', 'world_4region', 'latitude', 'longitude')"
   ]
  },
  {
   "cell_type": "markdown",
   "metadata": {
    "deletable": false,
    "editable": false
   },
   "source": [
    "**Question 4.** Using both `countries` and `recent_poverty_total`, create a five-column table called `poverty_map` with one row for every country in `recent_poverty_total`.  The five columns should have the following labels and contents:\n",
    "1. `latitude` contains the country's latitude,\n",
    "1. `longitude` contains the country's longitude,\n",
    "1. `name` contains the country's name,\n",
    "1. `region` contains the country's region from the `world_4region` column of `countries`,\n",
    "1. `poverty_total` contains the country's poverty total."
   ]
  },
  {
   "cell_type": "code",
   "execution_count": null,
   "metadata": {
    "deletable": false
   },
   "outputs": [],
   "source": [
    "poverty_map = ...\n",
    "poverty_map"
   ]
  },
  {
   "cell_type": "markdown",
   "metadata": {
    "deletable": false,
    "editable": false
   },
   "source": [
    "Run the cell below to draw a map of the world in which the areas of circles represent the number of people living in extreme poverty. Double-click on the map to zoom in."
   ]
  },
  {
   "cell_type": "code",
   "execution_count": 121,
   "metadata": {
    "deletable": false,
    "editable": false,
    "scrolled": true
   },
   "outputs": [
    {
     "ename": "NameError",
     "evalue": "name 'poverty_map' is not defined",
     "output_type": "error",
     "traceback": [
      "\u001b[1;31m---------------------------------------------------------------------------\u001b[0m",
      "\u001b[1;31mNameError\u001b[0m                                 Traceback (most recent call last)",
      "\u001b[1;32m<ipython-input-121-0731b1f40a80>\u001b[0m in \u001b[0;36m<module>\u001b[1;34m\u001b[0m\n\u001b[0;32m      1\u001b[0m \u001b[1;31m# It may take a few seconds to generate this map.\u001b[0m\u001b[1;33m\u001b[0m\u001b[1;33m\u001b[0m\u001b[1;33m\u001b[0m\u001b[0m\n\u001b[0;32m      2\u001b[0m \u001b[0mcolors\u001b[0m \u001b[1;33m=\u001b[0m \u001b[1;33m{\u001b[0m\u001b[1;34m'africa'\u001b[0m\u001b[1;33m:\u001b[0m \u001b[1;34m'blue'\u001b[0m\u001b[1;33m,\u001b[0m \u001b[1;34m'europe'\u001b[0m\u001b[1;33m:\u001b[0m \u001b[1;34m'black'\u001b[0m\u001b[1;33m,\u001b[0m \u001b[1;34m'asia'\u001b[0m\u001b[1;33m:\u001b[0m \u001b[1;34m'red'\u001b[0m\u001b[1;33m,\u001b[0m \u001b[1;34m'americas'\u001b[0m\u001b[1;33m:\u001b[0m \u001b[1;34m'green'\u001b[0m\u001b[1;33m}\u001b[0m\u001b[1;33m\u001b[0m\u001b[1;33m\u001b[0m\u001b[0m\n\u001b[1;32m----> 3\u001b[1;33m scaled = poverty_map.with_column(\n\u001b[0m\u001b[0;32m      4\u001b[0m     \u001b[1;34m'poverty_total'\u001b[0m\u001b[1;33m,\u001b[0m \u001b[1;36m2e4\u001b[0m \u001b[1;33m*\u001b[0m \u001b[0mpoverty_map\u001b[0m\u001b[1;33m.\u001b[0m\u001b[0mcolumn\u001b[0m\u001b[1;33m(\u001b[0m\u001b[1;34m'poverty_total'\u001b[0m\u001b[1;33m)\u001b[0m\u001b[1;33m,\u001b[0m\u001b[1;33m\u001b[0m\u001b[1;33m\u001b[0m\u001b[0m\n\u001b[0;32m      5\u001b[0m     \u001b[1;34m'region'\u001b[0m\u001b[1;33m,\u001b[0m \u001b[0mpoverty_map\u001b[0m\u001b[1;33m.\u001b[0m\u001b[0mapply\u001b[0m\u001b[1;33m(\u001b[0m\u001b[0mcolors\u001b[0m\u001b[1;33m.\u001b[0m\u001b[0mget\u001b[0m\u001b[1;33m,\u001b[0m \u001b[1;34m'region'\u001b[0m\u001b[1;33m)\u001b[0m\u001b[1;33m\u001b[0m\u001b[1;33m\u001b[0m\u001b[0m\n",
      "\u001b[1;31mNameError\u001b[0m: name 'poverty_map' is not defined"
     ]
    }
   ],
   "source": [
    "# It may take a few seconds to generate this map.\n",
    "colors = {'africa': 'blue', 'europe': 'black', 'asia': 'red', 'americas': 'green'}\n",
    "scaled = poverty_map.with_column(\n",
    "    'poverty_total', 2e4 * poverty_map.column('poverty_total'),\n",
    "    'region', poverty_map.apply(colors.get, 'region')\n",
    ")\n",
    "Circle.map_table(scaled)"
   ]
  },
  {
   "cell_type": "markdown",
   "metadata": {
    "deletable": false,
    "editable": false
   },
   "source": [
    "Although people live in extreme poverty throughout the world (with more than 5 million in the United States), the largest numbers are in Asia and Africa."
   ]
  },
  {
   "cell_type": "markdown",
   "metadata": {
    "deletable": false,
    "editable": false
   },
   "source": [
    "**Question 5.** Assign `largest` to a two-column table with the `name` (not the 3-letter code) and `poverty_total` of the 10 countries with the largest number of people living in extreme poverty."
   ]
  },
  {
   "cell_type": "code",
   "execution_count": null,
   "metadata": {
    "deletable": false
   },
   "outputs": [],
   "source": [
    "largest = ...\n",
    "largest"
   ]
  },
  {
   "cell_type": "markdown",
   "metadata": {
    "deletable": false
   },
   "source": [
    "**Question 6.** Write a function called `poverty_timeline` that takes **the name of a country** as its argument. It should draw a line plot of the number of people living in poverty in that country with time on the horizontal axis. The line plot should have a point for each row in the `poverty` table for that country. To compute the population living in poverty from a poverty percentage, multiply by the population of the country **in that year**.\n",
    "\n",
    "*Hint*: The comments within the `poverty_timeline` function correspond to my solution, but you don't need to use them. Any way that you want to draw the plot is fine, as long as it generates the correct graph.\n",
    "\n",
    "*Hint:* This question is long. Feel free to create cells and experiment. "
   ]
  },
  {
   "cell_type": "code",
   "execution_count": 122,
   "metadata": {},
   "outputs": [
    {
     "data": {
      "text/html": [
       "<table border=\"1\" class=\"dataframe\">\n",
       "    <thead>\n",
       "        <tr>\n",
       "            <th>geo</th> <th>time</th> <th>population_total</th>\n",
       "        </tr>\n",
       "    </thead>\n",
       "    <tbody>\n",
       "        <tr>\n",
       "            <td>abw </td> <td>1,800</td> <td>19,286          </td>\n",
       "        </tr>\n",
       "        <tr>\n",
       "            <td>abw </td> <td>1,801</td> <td>19,286          </td>\n",
       "        </tr>\n",
       "        <tr>\n",
       "            <td>abw </td> <td>1,802</td> <td>19,286          </td>\n",
       "        </tr>\n",
       "        <tr>\n",
       "            <td>abw </td> <td>1,803</td> <td>19,286          </td>\n",
       "        </tr>\n",
       "        <tr>\n",
       "            <td>abw </td> <td>1,804</td> <td>19,286          </td>\n",
       "        </tr>\n",
       "        <tr>\n",
       "            <td>abw </td> <td>1,805</td> <td>19,286          </td>\n",
       "        </tr>\n",
       "        <tr>\n",
       "            <td>abw </td> <td>1,806</td> <td>19,286          </td>\n",
       "        </tr>\n",
       "        <tr>\n",
       "            <td>abw </td> <td>1,807</td> <td>19,286          </td>\n",
       "        </tr>\n",
       "        <tr>\n",
       "            <td>abw </td> <td>1,808</td> <td>19,286          </td>\n",
       "        </tr>\n",
       "        <tr>\n",
       "            <td>abw </td> <td>1,809</td> <td>19,286          </td>\n",
       "        </tr>\n",
       "    </tbody>\n",
       "</table>\n",
       "<p>... (87785 rows omitted)</p>"
      ],
      "text/plain": [
       "geo  | time  | population_total\n",
       "abw  | 1,800 | 19,286\n",
       "abw  | 1,801 | 19,286\n",
       "abw  | 1,802 | 19,286\n",
       "abw  | 1,803 | 19,286\n",
       "abw  | 1,804 | 19,286\n",
       "abw  | 1,805 | 19,286\n",
       "abw  | 1,806 | 19,286\n",
       "abw  | 1,807 | 19,286\n",
       "abw  | 1,808 | 19,286\n",
       "abw  | 1,809 | 19,286\n",
       "... (87785 rows omitted)"
      ]
     },
     "execution_count": 122,
     "metadata": {},
     "output_type": "execute_result"
    }
   ],
   "source": [
    "population"
   ]
  },
  {
   "cell_type": "code",
   "execution_count": 123,
   "metadata": {},
   "outputs": [
    {
     "data": {
      "text/html": [
       "<table border=\"1\" class=\"dataframe\">\n",
       "    <thead>\n",
       "        <tr>\n",
       "            <th>geo</th> <th>time</th> <th>extreme_poverty_percent_people_below_125_a_day</th>\n",
       "        </tr>\n",
       "    </thead>\n",
       "    <tbody>\n",
       "        <tr>\n",
       "            <td>alb </td> <td>1,996</td> <td>0.2                                           </td>\n",
       "        </tr>\n",
       "        <tr>\n",
       "            <td>alb </td> <td>2,002</td> <td>0.73                                          </td>\n",
       "        </tr>\n",
       "        <tr>\n",
       "            <td>alb </td> <td>2,004</td> <td>0.53                                          </td>\n",
       "        </tr>\n",
       "        <tr>\n",
       "            <td>alb </td> <td>2,005</td> <td>0.44                                          </td>\n",
       "        </tr>\n",
       "        <tr>\n",
       "            <td>alb </td> <td>2,008</td> <td>0.2                                           </td>\n",
       "        </tr>\n",
       "        <tr>\n",
       "            <td>alb </td> <td>2,012</td> <td>0.46                                          </td>\n",
       "        </tr>\n",
       "        <tr>\n",
       "            <td>dza </td> <td>1,988</td> <td>7.1                                           </td>\n",
       "        </tr>\n",
       "        <tr>\n",
       "            <td>dza </td> <td>1,995</td> <td>6.38                                          </td>\n",
       "        </tr>\n",
       "        <tr>\n",
       "            <td>ago </td> <td>2,000</td> <td>54.31                                         </td>\n",
       "        </tr>\n",
       "        <tr>\n",
       "            <td>ago </td> <td>2,009</td> <td>43.37                                         </td>\n",
       "        </tr>\n",
       "    </tbody>\n",
       "</table>\n",
       "<p>... (1089 rows omitted)</p>"
      ],
      "text/plain": [
       "geo  | time  | extreme_poverty_percent_people_below_125_a_day\n",
       "alb  | 1,996 | 0.2\n",
       "alb  | 2,002 | 0.73\n",
       "alb  | 2,004 | 0.53\n",
       "alb  | 2,005 | 0.44\n",
       "alb  | 2,008 | 0.2\n",
       "alb  | 2,012 | 0.46\n",
       "dza  | 1,988 | 7.1\n",
       "dza  | 1,995 | 6.38\n",
       "ago  | 2,000 | 54.31\n",
       "ago  | 2,009 | 43.37\n",
       "... (1089 rows omitted)"
      ]
     },
     "execution_count": 123,
     "metadata": {},
     "output_type": "execute_result"
    }
   ],
   "source": [
    "poverty"
   ]
  },
  {
   "cell_type": "code",
   "execution_count": 124,
   "metadata": {},
   "outputs": [
    {
     "data": {
      "text/html": [
       "<table border=\"1\" class=\"dataframe\">\n",
       "    <thead>\n",
       "        <tr>\n",
       "            <th>country</th> <th>gwid</th> <th>name</th> <th>world_6region</th> <th>income_groups</th> <th>landlocked</th> <th>g77_and_oecd_countries</th> <th>main_religion_2008</th> <th>gapminder_list</th> <th>alternative_1</th> <th>alternative_2</th> <th>alternative_3</th> <th>alternative_4_cdiac</th> <th>pandg</th> <th>god_id</th> <th>alt_5</th> <th>upper_case_name</th> <th>code</th> <th>number</th> <th>arb1</th> <th>arb2</th> <th>arb3</th> <th>arb4</th> <th>arb5</th> <th>arb6</th> <th>is--country</th> <th>world_4region</th> <th>latitude</th> <th>longitude</th>\n",
       "        </tr>\n",
       "    </thead>\n",
       "    <tbody>\n",
       "        <tr>\n",
       "            <td>afg      </td> <td>i1  </td> <td>Afghanistan          </td> <td>south_asia              </td> <td>low_income         </td> <td>landlocked</td> <td>g77                   </td> <td>muslim            </td> <td>Afghanistan          </td> <td>Islamic Republic of Afghanistan</td> <td>nan          </td> <td>nan          </td> <td>Afghanistan        </td> <td>AFGHANISTAN</td> <td>AF               </td> <td>nan  </td> <td>AFGHANISTAN        </td> <td>AFG </td> <td>4     </td> <td>nan </td> <td>nan </td> <td>nan </td> <td>nan </td> <td>nan </td> <td>nan </td> <td>True       </td> <td>asia         </td> <td>33      </td> <td>66       </td>\n",
       "        </tr>\n",
       "        <tr>\n",
       "            <td>akr_a_dhe</td> <td>i2  </td> <td>Akrotiri and Dhekelia</td> <td>europe_central_asia     </td> <td>nan                </td> <td>coastline </td> <td>others                </td> <td>nan               </td> <td>Akrotiri and Dhekelia</td> <td>nan                            </td> <td>nan          </td> <td>nan          </td> <td>nan                </td> <td>nan        </td> <td>Akrotiri_Dhekelia</td> <td>nan  </td> <td>nan                </td> <td>nan </td> <td>nan   </td> <td>nan </td> <td>nan </td> <td>nan </td> <td>nan </td> <td>nan </td> <td>nan </td> <td>True       </td> <td>europe       </td> <td>nan     </td> <td>nan      </td>\n",
       "        </tr>\n",
       "        <tr>\n",
       "            <td>alb      </td> <td>i3  </td> <td>Albania              </td> <td>europe_central_asia     </td> <td>upper_middle_income</td> <td>coastline </td> <td>others                </td> <td>muslim            </td> <td>Albania              </td> <td>nan                            </td> <td>nan          </td> <td>nan          </td> <td>Albania            </td> <td>ALBANIA    </td> <td>AL               </td> <td>nan  </td> <td>ALBANIA            </td> <td>ALB </td> <td>8     </td> <td>nan </td> <td>nan </td> <td>nan </td> <td>nan </td> <td>nan </td> <td>nan </td> <td>True       </td> <td>europe       </td> <td>41      </td> <td>20       </td>\n",
       "        </tr>\n",
       "        <tr>\n",
       "            <td>dza      </td> <td>i4  </td> <td>Algeria              </td> <td>middle_east_north_africa</td> <td>upper_middle_income</td> <td>coastline </td> <td>g77                   </td> <td>muslim            </td> <td>Algeria              </td> <td>nan                            </td> <td>nan          </td> <td>nan          </td> <td>Algeria            </td> <td>ALGERIA    </td> <td>DZ               </td> <td>nan  </td> <td>ALGERIA            </td> <td>DZA </td> <td>12    </td> <td>nan </td> <td>nan </td> <td>nan </td> <td>nan </td> <td>nan </td> <td>nan </td> <td>True       </td> <td>africa       </td> <td>28      </td> <td>3        </td>\n",
       "        </tr>\n",
       "        <tr>\n",
       "            <td>asm      </td> <td>i5  </td> <td>American Samoa       </td> <td>east_asia_pacific       </td> <td>upper_middle_income</td> <td>coastline </td> <td>others                </td> <td>christian         </td> <td>American Samoa       </td> <td>nan                            </td> <td>nan          </td> <td>nan          </td> <td>nan                </td> <td>nan        </td> <td>AS               </td> <td>nan  </td> <td>AMERICAN SAMOA     </td> <td>ASM </td> <td>16    </td> <td>nan </td> <td>nan </td> <td>nan </td> <td>nan </td> <td>nan </td> <td>nan </td> <td>True       </td> <td>asia         </td> <td>-11.056 </td> <td>-171.082 </td>\n",
       "        </tr>\n",
       "        <tr>\n",
       "            <td>and      </td> <td>i6  </td> <td>Andorra              </td> <td>europe_central_asia     </td> <td>high_income        </td> <td>landlocked</td> <td>others                </td> <td>christian         </td> <td>Andorra              </td> <td>nan                            </td> <td>nan          </td> <td>nan          </td> <td>nan                </td> <td>nan        </td> <td>AD               </td> <td>nan  </td> <td>ANDORRA            </td> <td>AND </td> <td>20    </td> <td>nan </td> <td>nan </td> <td>nan </td> <td>nan </td> <td>nan </td> <td>nan </td> <td>True       </td> <td>europe       </td> <td>42.5078 </td> <td>1.52109  </td>\n",
       "        </tr>\n",
       "        <tr>\n",
       "            <td>ago      </td> <td>i7  </td> <td>Angola               </td> <td>sub_saharan_africa      </td> <td>upper_middle_income</td> <td>coastline </td> <td>g77                   </td> <td>christian         </td> <td>Angola               </td> <td>nan                            </td> <td>nan          </td> <td>nan          </td> <td>Angola             </td> <td>ANGOLA     </td> <td>AO               </td> <td>nan  </td> <td>ANGOLA             </td> <td>AGO </td> <td>24    </td> <td>nan </td> <td>nan </td> <td>nan </td> <td>nan </td> <td>nan </td> <td>nan </td> <td>True       </td> <td>africa       </td> <td>-12.5   </td> <td>18.5     </td>\n",
       "        </tr>\n",
       "        <tr>\n",
       "            <td>aia      </td> <td>i8  </td> <td>Anguilla             </td> <td>america                 </td> <td>nan                </td> <td>coastline </td> <td>others                </td> <td>christian         </td> <td>Anguilla             </td> <td>nan                            </td> <td>nan          </td> <td>nan          </td> <td>nan                </td> <td>nan        </td> <td>AI               </td> <td>nan  </td> <td>ANGUILLA           </td> <td>AIA </td> <td>660   </td> <td>nan </td> <td>nan </td> <td>nan </td> <td>nan </td> <td>nan </td> <td>nan </td> <td>True       </td> <td>americas     </td> <td>18.2167 </td> <td>-63.05   </td>\n",
       "        </tr>\n",
       "        <tr>\n",
       "            <td>atg      </td> <td>i9  </td> <td>Antigua and Barbuda  </td> <td>america                 </td> <td>high_income        </td> <td>coastline </td> <td>g77                   </td> <td>christian         </td> <td>Antigua and Barbuda  </td> <td>nan                            </td> <td>nan          </td> <td>nan          </td> <td>Antigua & Barbuda  </td> <td>nan        </td> <td>AG               </td> <td>nan  </td> <td>ANTIGUA AND BARBUDA</td> <td>ATG </td> <td>28    </td> <td>nan </td> <td>nan </td> <td>nan </td> <td>nan </td> <td>nan </td> <td>nan </td> <td>True       </td> <td>americas     </td> <td>17.05   </td> <td>-61.8    </td>\n",
       "        </tr>\n",
       "        <tr>\n",
       "            <td>arg      </td> <td>i10 </td> <td>Argentina            </td> <td>america                 </td> <td>upper_middle_income</td> <td>coastline </td> <td>g77                   </td> <td>christian         </td> <td>Argentina            </td> <td>nan                            </td> <td>nan          </td> <td>nan          </td> <td>Argentina          </td> <td>ARGENTINA  </td> <td>AR               </td> <td>nan  </td> <td>ARGENTINA          </td> <td>ARG </td> <td>32    </td> <td>nan </td> <td>nan </td> <td>nan </td> <td>nan </td> <td>nan </td> <td>nan </td> <td>True       </td> <td>americas     </td> <td>-34     </td> <td>-64      </td>\n",
       "        </tr>\n",
       "    </tbody>\n",
       "</table>\n",
       "<p>... (245 rows omitted)</p>"
      ],
      "text/plain": [
       "country   | gwid | name                  | world_6region            | income_groups       | landlocked | g77_and_oecd_countries | main_religion_2008 | gapminder_list        | alternative_1                   | alternative_2 | alternative_3 | alternative_4_cdiac | pandg       | god_id            | alt_5 | upper_case_name     | code | number | arb1 | arb2 | arb3 | arb4 | arb5 | arb6 | is--country | world_4region | latitude | longitude\n",
       "afg       | i1   | Afghanistan           | south_asia               | low_income          | landlocked | g77                    | muslim             | Afghanistan           | Islamic Republic of Afghanistan | nan           | nan           | Afghanistan         | AFGHANISTAN | AF                | nan   | AFGHANISTAN         | AFG  | 4      | nan  | nan  | nan  | nan  | nan  | nan  | True        | asia          | 33       | 66\n",
       "akr_a_dhe | i2   | Akrotiri and Dhekelia | europe_central_asia      | nan                 | coastline  | others                 | nan                | Akrotiri and Dhekelia | nan                             | nan           | nan           | nan                 | nan         | Akrotiri_Dhekelia | nan   | nan                 | nan  | nan    | nan  | nan  | nan  | nan  | nan  | nan  | True        | europe        | nan      | nan\n",
       "alb       | i3   | Albania               | europe_central_asia      | upper_middle_income | coastline  | others                 | muslim             | Albania               | nan                             | nan           | nan           | Albania             | ALBANIA     | AL                | nan   | ALBANIA             | ALB  | 8      | nan  | nan  | nan  | nan  | nan  | nan  | True        | europe        | 41       | 20\n",
       "dza       | i4   | Algeria               | middle_east_north_africa | upper_middle_income | coastline  | g77                    | muslim             | Algeria               | nan                             | nan           | nan           | Algeria             | ALGERIA     | DZ                | nan   | ALGERIA             | DZA  | 12     | nan  | nan  | nan  | nan  | nan  | nan  | True        | africa        | 28       | 3\n",
       "asm       | i5   | American Samoa        | east_asia_pacific        | upper_middle_income | coastline  | others                 | christian          | American Samoa        | nan                             | nan           | nan           | nan                 | nan         | AS                | nan   | AMERICAN SAMOA      | ASM  | 16     | nan  | nan  | nan  | nan  | nan  | nan  | True        | asia          | -11.056  | -171.082\n",
       "and       | i6   | Andorra               | europe_central_asia      | high_income         | landlocked | others                 | christian          | Andorra               | nan                             | nan           | nan           | nan                 | nan         | AD                | nan   | ANDORRA             | AND  | 20     | nan  | nan  | nan  | nan  | nan  | nan  | True        | europe        | 42.5078  | 1.52109\n",
       "ago       | i7   | Angola                | sub_saharan_africa       | upper_middle_income | coastline  | g77                    | christian          | Angola                | nan                             | nan           | nan           | Angola              | ANGOLA      | AO                | nan   | ANGOLA              | AGO  | 24     | nan  | nan  | nan  | nan  | nan  | nan  | True        | africa        | -12.5    | 18.5\n",
       "aia       | i8   | Anguilla              | america                  | nan                 | coastline  | others                 | christian          | Anguilla              | nan                             | nan           | nan           | nan                 | nan         | AI                | nan   | ANGUILLA            | AIA  | 660    | nan  | nan  | nan  | nan  | nan  | nan  | True        | americas      | 18.2167  | -63.05\n",
       "atg       | i9   | Antigua and Barbuda   | america                  | high_income         | coastline  | g77                    | christian          | Antigua and Barbuda   | nan                             | nan           | nan           | Antigua & Barbuda   | nan         | AG                | nan   | ANTIGUA AND BARBUDA | ATG  | 28     | nan  | nan  | nan  | nan  | nan  | nan  | True        | americas      | 17.05    | -61.8\n",
       "arg       | i10  | Argentina             | america                  | upper_middle_income | coastline  | g77                    | christian          | Argentina             | nan                             | nan           | nan           | Argentina           | ARGENTINA   | AR                | nan   | ARGENTINA           | ARG  | 32     | nan  | nan  | nan  | nan  | nan  | nan  | True        | americas      | -34      | -64\n",
       "... (245 rows omitted)"
      ]
     },
     "execution_count": 124,
     "metadata": {},
     "output_type": "execute_result"
    }
   ],
   "source": [
    "countries"
   ]
  },
  {
   "cell_type": "code",
   "execution_count": null,
   "metadata": {},
   "outputs": [],
   "source": [
    "def poverty_timeline(name):\n",
    "    # get geo code for country name: \n",
    "    get_geo = stat_with_region.where('name', name).column('geo').item(0)\n",
    "    # get population data, extract rows for country, and restrict attention to time and population_total:\n",
    "    \n",
    "    # get poverty data, extract rows for country, and restrict attention to time and \n",
    "    # extreme_poverty_percent_people_below_125_a_day:\n",
    "    ...\n",
    "    # join the population data to the poverty table using the time variable: \n",
    "    ...\n",
    "    # use the percentage and population_total columns to determine the number of people in poverty, add column to table: \n",
    "    ...\n",
    "    # drop irrelevant columns and plot:\n",
    "    ..."
   ]
  },
  {
   "cell_type": "markdown",
   "metadata": {
    "deletable": false,
    "editable": false
   },
   "source": [
    "Finally, draw the timelines below to see how the world is changing. You can check your work by comparing your graphs to the ones on [gapminder.org](https://goo.gl/lPujuh)."
   ]
  },
  {
   "cell_type": "code",
   "execution_count": null,
   "metadata": {
    "deletable": false,
    "editable": false
   },
   "outputs": [],
   "source": [
    "poverty_timeline('India')"
   ]
  },
  {
   "cell_type": "code",
   "execution_count": null,
   "metadata": {
    "deletable": false,
    "editable": false
   },
   "outputs": [],
   "source": [
    "poverty_timeline('Nigeria')"
   ]
  },
  {
   "cell_type": "code",
   "execution_count": null,
   "metadata": {
    "deletable": false,
    "editable": false
   },
   "outputs": [],
   "source": [
    "poverty_timeline('China')"
   ]
  },
  {
   "cell_type": "code",
   "execution_count": null,
   "metadata": {
    "deletable": false,
    "editable": false,
    "scrolled": true
   },
   "outputs": [],
   "source": [
    "poverty_timeline('United States')"
   ]
  },
  {
   "cell_type": "markdown",
   "metadata": {
    "deletable": false,
    "editable": false
   },
   "source": [
    "Although the number of people living in extreme poverty has been increasing in Nigeria and the United States, the massive decreases in China and India have shaped the overall trend that extreme poverty is decreasing worldwide, both in percentage and in absolute number. \n",
    "\n",
    "To learn more, watch [Hans Rosling in a 2015 film](https://www.gapminder.org/videos/dont-panic-end-poverty/) about the UN goal of eradicating extreme poverty from the world. "
   ]
  },
  {
   "cell_type": "markdown",
   "metadata": {
    "deletable": false
   },
   "source": [
    "**You're finished!** Congratulations on mastering data visualization and table manipulation."
   ]
  },
  {
   "cell_type": "code",
   "execution_count": null,
   "metadata": {},
   "outputs": [],
   "source": []
  }
 ],
 "metadata": {
  "celltoolbar": "Raw Cell Format",
  "kernelspec": {
   "display_name": "Python 3",
   "language": "python",
   "name": "python3"
  },
  "language_info": {
   "codemirror_mode": {
    "name": "ipython",
    "version": 3
   },
   "file_extension": ".py",
   "mimetype": "text/x-python",
   "name": "python",
   "nbconvert_exporter": "python",
   "pygments_lexer": "ipython3",
   "version": "3.7.3"
  }
 },
 "nbformat": 4,
 "nbformat_minor": 1
}
